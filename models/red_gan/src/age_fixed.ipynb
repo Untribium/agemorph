{
 "cells": [
  {
   "cell_type": "code",
   "execution_count": 1,
   "metadata": {},
   "outputs": [
    {
     "name": "stderr",
     "output_type": "stream",
     "text": [
      "Using TensorFlow backend.\n"
     ]
    }
   ],
   "source": [
    "import os\n",
    "import sys\n",
    "import glob\n",
    "\n",
    "import tensorflow as tf\n",
    "import numpy as np\n",
    "import pandas as pd\n",
    "import keras\n",
    "from keras.backend.tensorflow_backend import set_session\n",
    "\n",
    "import matplotlib.pyplot as plt\n",
    "\n",
    "import nibabel as nib"
   ]
  },
  {
   "cell_type": "code",
   "execution_count": 2,
   "metadata": {},
   "outputs": [],
   "source": [
    "def load_nii(path):\n",
    "    nii = nib.load(path)\n",
    "    vol = nii.get_data().astype(np.float32)\n",
    "    return np.squeeze(vol)"
   ]
  },
  {
   "cell_type": "code",
   "execution_count": 3,
   "metadata": {},
   "outputs": [
    {
     "name": "stdout",
     "output_type": "stream",
     "text": [
      "found 3 runs \n",
      "\n",
      "0 ../runs/gan_20190428_1448_gpu=7_bs=4_cl=8_lr=0.0001_b1=0.0_b2=0.9_ep=0.1_pl=50.0_vr=0.5_is=5_cs=5_rf=10_rs=5_sw=True_glw=[1_100_500_10_0]_clw=[1_1_10]/predict \n",
      "\n",
      "1 ../runs/gan_20190430_1720_gpu=7_bs=16_cl=8_lr=0.0001_b1=0.0_b2=0.9_ep=0.1_pl=50.0_lk=0.2_bn=True_vr=0.5_is=6_cs=5_rf=10_rs=5_sw=True_glw=[1_100_500_10_0_0]_clw=[1_1_10]_tag=beefier_decoder_more_summaries_batchnorm/predict \n",
      "\n",
      "2 ../runs/gan_20190503_1139_gpu=2_bs=16_cl=8_lr=0.0001_b1=0.0_b2=0.9_ep=0.1_pl=25.0_lk=0.2_bn=True_vr=0.5_is=6_cs=5_rf=10_rs=5_sw=True_reg=True_clf=False_glw=[1.0_500.0_10.0_250.0_0.0_0.0_50.0]_clw=[1.0_1.0_10.0]_tag=new_arch/predict \n",
      "\n"
     ]
    }
   ],
   "source": [
    "run_dirs = glob.glob('../runs/*/predict')\n",
    "run_dirs = sorted(run_dirs)\n",
    "\n",
    "print('found {} runs'.format(len(run_dirs)), '\\n')\n",
    "\n",
    "for i, run in enumerate(run_dirs):\n",
    "    print(i, run, '\\n')"
   ]
  },
  {
   "cell_type": "code",
   "execution_count": 4,
   "metadata": {},
   "outputs": [
    {
     "name": "stdout",
     "output_type": "stream",
     "text": [
      "found 2 pre_dirs\n",
      "0 eval/gen_060_04\n",
      "1 test/gen_060_04\n"
     ]
    }
   ],
   "source": [
    "# set run dir\n",
    "run_dir = run_dirs[2]\n",
    "\n",
    "pre_dirs = glob.glob(os.path.join(glob.escape(run_dir), '*', '*'))\n",
    "pre_dirs = sorted(pre_dirs)\n",
    "\n",
    "print('found {} pre_dirs'.format(len(pre_dirs)))\n",
    "\n",
    "for i, pre_dir in enumerate(pre_dirs):\n",
    "    #print(i, os.path.basename(pre_dir))\n",
    "    print(i, pre_dir.split('/')[-2] + '/' + pre_dir.split('/')[-1])"
   ]
  },
  {
   "cell_type": "code",
   "execution_count": 5,
   "metadata": {},
   "outputs": [
    {
     "name": "stdout",
     "output_type": "stream",
     "text": [
      "found meta.csv: (2408, 39)\n"
     ]
    }
   ],
   "source": [
    "# generator config, run_dir, etc...\n",
    "pre_dir = pre_dirs[0]\n",
    "\n",
    "csv_path = os.path.join(pre_dir, 'meta.csv')\n",
    "csv = pd.read_csv(csv_path)\n",
    "\n",
    "print('found meta.csv: {}'.format(csv.shape))"
   ]
  },
  {
   "cell_type": "code",
   "execution_count": 47,
   "metadata": {},
   "outputs": [
    {
     "name": "stdout",
     "output_type": "stream",
     "text": [
      "found model file\n"
     ]
    }
   ],
   "source": [
    "# regressor\n",
    "reg_dir = '../../age/runs/reg_20190428_0822_gpu=2_bs=16_lr=0.0001_b1=0.9_b2=0.999_ep=0.1_bn=True_mp=True_lk=0.0_ls=[8_2_32_2_64_1_64_2_128_1_128_1_256_1_256_1_256_1]_lw=[1.0]_ls=mean_absolute_error_tag=slice/'\n",
    "model_name = 'reg_1000'\n",
    "model_file = os.path.join(reg_dir, model_name+'.h5')\n",
    "\n",
    "if os.path.isfile(model_file):\n",
    "    print('found model file')\n",
    "else:\n",
    "    print('model file not found!')"
   ]
  },
  {
   "cell_type": "code",
   "execution_count": 48,
   "metadata": {},
   "outputs": [],
   "source": [
    "# gpu config\n",
    "gpu_id = 0\n",
    "\n",
    "if gpu_id is not None:                                                     \n",
    "    gpu = '/gpu:' + str(gpu_id)                                            \n",
    "    os.environ[\"CUDA_VISIBLE_DEVICES\"] = str(gpu_id)                       \n",
    "    config = tf.ConfigProto()                                              \n",
    "    config.gpu_options.allow_growth = True                                 \n",
    "    config.allow_soft_placement = True                                     \n",
    "    set_session(tf.Session(config=config))                                 \n",
    "else:                                                                      \n",
    "    gpu = '/cpu:0'"
   ]
  },
  {
   "cell_type": "code",
   "execution_count": 49,
   "metadata": {
    "scrolled": true
   },
   "outputs": [
    {
     "name": "stdout",
     "output_type": "stream",
     "text": [
      "starting predict\n",
      "step 0\n",
      "step 10\n",
      "step 20\n",
      "step 30\n",
      "step 40\n",
      "step 50\n",
      "step 60\n",
      "step 70\n",
      "step 80\n",
      "step 90\n",
      "step 100\n",
      "step 110\n",
      "step 120\n",
      "step 130\n",
      "step 140\n",
      "step 150\n",
      "step 160\n",
      "step 170\n",
      "step 180\n",
      "step 190\n",
      "step 200\n",
      "step 210\n",
      "step 220\n",
      "step 230\n",
      "step 240\n",
      "step 250\n",
      "step 260\n",
      "step 270\n",
      "step 280\n",
      "step 290\n",
      "step 300\n",
      "step 310\n",
      "step 320\n",
      "step 330\n",
      "step 340\n",
      "step 350\n",
      "step 360\n",
      "step 370\n",
      "step 380\n",
      "step 390\n",
      "step 400\n",
      "step 410\n",
      "step 420\n",
      "step 430\n",
      "step 440\n",
      "step 450\n",
      "step 460\n",
      "step 470\n",
      "step 480\n",
      "step 490\n",
      "step 500\n",
      "step 510\n",
      "step 520\n",
      "step 530\n",
      "step 540\n",
      "step 550\n",
      "step 560\n",
      "step 570\n",
      "step 580\n",
      "step 590\n",
      "step 600\n",
      "step 610\n",
      "step 620\n",
      "step 630\n",
      "step 640\n",
      "step 650\n",
      "step 660\n",
      "step 670\n",
      "step 680\n",
      "step 690\n",
      "step 700\n",
      "step 710\n",
      "step 720\n",
      "step 730\n",
      "step 740\n",
      "step 750\n",
      "step 760\n",
      "step 770\n",
      "step 780\n",
      "step 790\n",
      "step 800\n",
      "step 810\n",
      "step 820\n",
      "step 830\n",
      "step 840\n",
      "step 850\n",
      "step 860\n",
      "step 870\n",
      "step 880\n",
      "step 890\n",
      "step 900\n",
      "step 910\n",
      "step 920\n",
      "step 930\n",
      "step 940\n",
      "step 950\n",
      "step 960\n",
      "step 970\n",
      "step 980\n",
      "step 990\n",
      "step 1000\n",
      "step 1010\n",
      "step 1020\n",
      "step 1030\n",
      "step 1040\n",
      "step 1050\n",
      "step 1060\n",
      "step 1070\n",
      "step 1080\n",
      "step 1090\n",
      "step 1100\n",
      "step 1110\n",
      "step 1120\n",
      "step 1130\n",
      "step 1140\n",
      "step 1150\n",
      "step 1160\n",
      "step 1170\n",
      "step 1180\n",
      "step 1190\n",
      "step 1200\n",
      "step 1210\n",
      "step 1220\n",
      "step 1230\n",
      "step 1240\n",
      "step 1250\n",
      "step 1260\n",
      "step 1270\n",
      "step 1280\n",
      "step 1290\n",
      "step 1300\n",
      "step 1310\n",
      "step 1320\n",
      "step 1330\n",
      "step 1340\n",
      "step 1350\n",
      "step 1360\n",
      "step 1370\n",
      "step 1380\n",
      "step 1390\n",
      "step 1400\n",
      "step 1410\n",
      "step 1420\n",
      "step 1430\n",
      "step 1440\n",
      "step 1450\n",
      "step 1460\n",
      "step 1470\n",
      "step 1480\n",
      "step 1490\n",
      "step 1500\n",
      "step 1510\n",
      "step 1520\n",
      "step 1530\n",
      "step 1540\n",
      "step 1550\n",
      "step 1560\n",
      "step 1570\n",
      "step 1580\n",
      "step 1590\n",
      "step 1600\n",
      "step 1610\n",
      "step 1620\n",
      "step 1630\n",
      "step 1640\n",
      "step 1650\n",
      "step 1660\n",
      "step 1670\n",
      "step 1680\n",
      "step 1690\n",
      "step 1700\n",
      "step 1710\n",
      "step 1720\n",
      "step 1730\n",
      "step 1740\n",
      "step 1750\n",
      "step 1760\n",
      "step 1770\n",
      "step 1780\n",
      "step 1790\n",
      "step 1800\n",
      "step 1810\n",
      "step 1820\n",
      "step 1830\n",
      "step 1840\n",
      "step 1850\n",
      "step 1860\n",
      "step 1870\n",
      "step 1880\n",
      "step 1890\n",
      "step 1900\n",
      "step 1910\n",
      "step 1920\n",
      "step 1930\n",
      "step 1940\n",
      "step 1950\n",
      "step 1960\n",
      "step 1970\n",
      "step 1980\n",
      "step 1990\n",
      "step 2000\n",
      "step 2010\n",
      "step 2020\n",
      "step 2030\n",
      "step 2040\n",
      "step 2050\n",
      "step 2060\n",
      "step 2070\n",
      "step 2080\n",
      "step 2090\n",
      "step 2100\n",
      "step 2110\n",
      "step 2120\n",
      "step 2130\n",
      "step 2140\n",
      "step 2150\n",
      "step 2160\n",
      "step 2170\n",
      "step 2180\n",
      "step 2190\n",
      "step 2200\n",
      "step 2210\n",
      "step 2220\n",
      "step 2230\n",
      "step 2240\n",
      "step 2250\n",
      "step 2260\n",
      "step 2270\n",
      "step 2280\n",
      "step 2290\n",
      "step 2300\n",
      "step 2310\n",
      "step 2320\n",
      "step 2330\n",
      "step 2340\n",
      "step 2350\n",
      "step 2360\n",
      "step 2370\n",
      "step 2380\n",
      "step 2390\n",
      "step 2400\n",
      "finished predict\n",
      "writing csv to ../runs/gan_20190430_1720_gpu=7_bs=16_cl=8_lr=0.0001_b1=0.0_b2=0.9_ep=0.1_pl=50.0_lk=0.2_bn=True_vr=0.5_is=6_cs=5_rf=10_rs=5_sw=True_glw=[1_100_500_10_0_0]_clw=[1_1_10]_tag=beefier_decoder_more_summaries_batchnorm/predict/eval/gen_220_04/reg_1000.csv\n"
     ]
    }
   ],
   "source": [
    "csv = csv[~csv.img_path_0.isna()]\n",
    "csv = csv[~csv.img_path_1.isna()]\n",
    "csv = csv[~csv.img_path_yf.isna()]\n",
    "\n",
    "csv = csv.reset_index(drop=True)\n",
    "\n",
    "print('starting predict')\n",
    "\n",
    "with tf.device(gpu):\n",
    "    \n",
    "    # load classifier model\n",
    "    regressor = keras.models.load_model(model_file)\n",
    "    \n",
    "    for i, (_, row) in enumerate(csv.iterrows()):\n",
    "        \n",
    "        if i % 10 == 0:\n",
    "            print('step', i)\n",
    "        \n",
    "        xr = load_nii(row['img_path_0'])[None, ..., None]\n",
    "        yr = load_nii(row['img_path_1'])[None, ..., None]\n",
    "        yf = load_nii(row['img_path_yf'])[None, ..., None]\n",
    "        \n",
    "        batch = np.concatenate([xr, yr, yf], axis=0)\n",
    "        \n",
    "        pred = regressor.predict([batch])\n",
    "        \n",
    "        index = (csv.img_id_0 == row['img_id_0']) & (csv.img_id_1 == row['img_id_1'])\n",
    "        \n",
    "        csv.loc[index, 'age_xr'] = pred[0]\n",
    "        csv.loc[index, 'age_yr'] = pred[1]\n",
    "        csv.loc[index, 'age_yf'] = pred[2]\n",
    "        \n",
    "print('finished predict')\n",
    "\n",
    "csv_out_path = os.path.join(pre_dir, model_name+'.csv')\n",
    "\n",
    "print('writing csv to {}'.format(csv_out_path))\n",
    "\n",
    "csv.to_csv(csv_out_path, index=False)"
   ]
  },
  {
   "cell_type": "code",
   "execution_count": 6,
   "metadata": {},
   "outputs": [
    {
     "name": "stdout",
     "output_type": "stream",
     "text": [
      "0 reg_1000.csv\n"
     ]
    }
   ],
   "source": [
    "reg_csvs = glob.glob(os.path.join(glob.escape(pre_dir), '[!meta]*.csv'))\n",
    "reg_csvs = sorted(reg_csvs)\n",
    "\n",
    "for i, reg_csv in enumerate(reg_csvs):\n",
    "    print(i, os.path.basename(reg_csv))"
   ]
  },
  {
   "cell_type": "code",
   "execution_count": 7,
   "metadata": {},
   "outputs": [
    {
     "name": "stdout",
     "output_type": "stream",
     "text": [
      "(2408, 42)\n"
     ]
    }
   ],
   "source": [
    "csv_path = reg_csvs[0]\n",
    "csv = pd.read_csv(csv_path)\n",
    "print(csv.shape)"
   ]
  },
  {
   "cell_type": "code",
   "execution_count": 10,
   "metadata": {},
   "outputs": [
    {
     "name": "stdout",
     "output_type": "stream",
     "text": [
      "(961, 42)\n",
      "4.770808617852853\n",
      "1.4748712035346077\n"
     ]
    },
    {
     "data": {
      "image/png": "[encoded data removed]",
      "text/plain": [
       "<Figure size 864x864 with 1 Axes>"
      ]
     },
     "metadata": {
      "needs_background": "light"
     },
     "output_type": "display_data"
    }
   ],
   "source": [
    "# outputs should be the same for same first image, so drop duplicates\n",
    "csv_unique = csv.drop_duplicates(subset=['img_id_0'])\n",
    "print(csv_unique.shape)\n",
    "\n",
    "x = np.arange(-3, 15, 0.5)\n",
    "y = csv_unique.age_yf - csv_unique.age_xr\n",
    "\n",
    "print(y.mean())\n",
    "print(y.std())\n",
    "\n",
    "plt.figure(figsize=(12, 12))\n",
    "plt.hist(y, x, alpha=0.5)\n",
    "plt.show()"
   ]
  }
 ],
 "metadata": {
  "kernelspec": {
   "display_name": "Python 3",
   "language": "python",
   "name": "python3"
  },
  "language_info": {
   "codemirror_mode": {
    "name": "ipython",
    "version": 3
   },
   "file_extension": ".py",
   "mimetype": "text/x-python",
   "name": "python",
   "nbconvert_exporter": "python",
   "pygments_lexer": "ipython3",
   "version": "3.6.8"
  }
 },
 "nbformat": 4,
 "nbformat_minor": 2
}
