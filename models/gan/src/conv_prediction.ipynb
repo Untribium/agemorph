{
 "cells": [
  {
   "cell_type": "code",
   "execution_count": 1,
   "metadata": {
    "scrolled": true
   },
   "outputs": [
    {
     "name": "stderr",
     "output_type": "stream",
     "text": [
      "Using TensorFlow backend.\n"
     ]
    }
   ],
   "source": [
    "import os\n",
    "import sys\n",
    "import glob\n",
    "\n",
    "import tensorflow as tf\n",
    "import numpy as np\n",
    "import pandas as pd\n",
    "import keras\n",
    "from keras.backend.tensorflow_backend import set_session\n",
    "\n",
    "import matplotlib.pyplot as plt\n",
    "\n",
    "import nibabel as nib"
   ]
  },
  {
   "cell_type": "code",
   "execution_count": 2,
   "metadata": {},
   "outputs": [],
   "source": [
    "def plot(img):\n",
    "    plt.figure()\n",
    "    plt.imshow(img[:, 40, :], cmap='gray')\n",
    "    \n",
    "def load_nii(path):\n",
    "    nii = nib.load(path)\n",
    "    vol = nii.get_data().astype(np.float32)\n",
    "    return np.squeeze(vol)"
   ]
  },
  {
   "cell_type": "code",
   "execution_count": 3,
   "metadata": {},
   "outputs": [
    {
     "name": "stdout",
     "output_type": "stream",
     "text": [
      "found 4 runs \n",
      "\n",
      "0 ../runs/gan_20190416_0011_gpu=1_bs=4_enc=[16_32_32_32]_dec=[32_32_32_32_16_8]_cbn=16_lr=0.0001_b1=0.0_b2=0.9_ep=0.1_pl=25.0_vr=1.0_ti=True_is=5_cs=5_rf=10_rs=25_glw=[100_10_100_1]_clw=[1_1_10]_tag=brains_regular_gen/predict \n",
      "\n",
      "1 ../runs/gan_20190418_1124_gpu=4_bs=4_enc=[16_32_64_128]_dec=[128_64_32_32_16_8]_cbn=16_lr=0.0001_b1=0.0_b2=0.9_ep=0.1_pl=25.0_vr=1.0_ti=True_is=5_cs=5_rf=10_rs=25_glw=[100.0_10.0_5000.0_1.0]_clw=[1_1_10]_tag=brains_deep_high_prec_loss/predict \n",
      "\n",
      "2 ../runs/gan_20190418_1255_gpu=2_bs=4_enc=[16_32_32_32]_dec=[32_32_32_32_16_8]_cbn=16_lr=0.0001_b1=0.0_b2=0.9_ep=0.1_pl=25.0_vr=1.0_ti=True_is=5_cs=5_rf=10_rs=25_glw=[100.0_10.0_5000.0_1.0]_clw=[1_1_10]_tag=brains_reg_gen_high_prec/predict \n",
      "\n",
      "3 ../runs/gan_20190419_0002_gpu=0_bs=4_enc=[16_32_32_32]_dec=[32_32_32_32_16_8]_cbn=16_lr=0.0001_b1=0.0_b2=0.9_ep=0.1_pl=25.0_vr=1.0_ti=False_is=5_cs=5_rf=10_rs=25_glw=[100.0_10.0_0.0_1.0]_clw=[1_1_10]_tag=brains_reg_gen_no_ti/predict \n",
      "\n"
     ]
    }
   ],
   "source": [
    "run_dirs = glob.glob('../runs/*/predict')\n",
    "run_dirs = sorted(run_dirs)\n",
    "\n",
    "print('found {} runs'.format(len(run_dirs)), '\\n')\n",
    "\n",
    "for i, run in enumerate(run_dirs):\n",
    "    print(i, run, '\\n')"
   ]
  },
  {
   "cell_type": "code",
   "execution_count": 4,
   "metadata": {},
   "outputs": [
    {
     "name": "stdout",
     "output_type": "stream",
     "text": [
      "found 4 pre_dirs\n",
      "0 test/gen_050_04\n",
      "1 test/gen_150_04\n",
      "2 test/gen_250_04\n",
      "3 test/gen_400_04\n"
     ]
    }
   ],
   "source": [
    "# set run dir\n",
    "run_dir = run_dirs[3]\n",
    "\n",
    "pre_dirs = glob.glob(os.path.join(glob.escape(run_dir), '*', '*'))\n",
    "pre_dirs = sorted(pre_dirs)\n",
    "\n",
    "print('found {} pre_dirs'.format(len(pre_dirs)))\n",
    "\n",
    "for i, pre_dir in enumerate(pre_dirs):\n",
    "    #print(i, os.path.basename(pre_dir))\n",
    "    print(i, pre_dir.split('/')[-2] + '/' + pre_dir.split('/')[-1])"
   ]
  },
  {
   "cell_type": "code",
   "execution_count": 5,
   "metadata": {},
   "outputs": [
    {
     "name": "stdout",
     "output_type": "stream",
     "text": [
      "found meta.csv: (271, 38)\n"
     ]
    }
   ],
   "source": [
    "# generator config, run_dir, etc...\n",
    "pre_dir = pre_dirs[2]\n",
    "\n",
    "csv_path = os.path.join(pre_dir, 'meta.csv')\n",
    "csv = pd.read_csv(csv_path)\n",
    "\n",
    "print('found meta.csv: {}'.format(csv.shape))"
   ]
  },
  {
   "cell_type": "code",
   "execution_count": 6,
   "metadata": {},
   "outputs": [
    {
     "name": "stdout",
     "output_type": "stream",
     "text": [
      "found model file\n"
     ]
    }
   ],
   "source": [
    "# classifier\n",
    "clf_dir = '../../../../backup/agemorph/models/clf/clf_20190330_1549_gpu=4_bs=8_lr=0.001_b1=0.9_b2=0.999_ep=0.1_bn=True_ds=1_lw=[1.0]/'\n",
    "model_name = 'clf_100'\n",
    "model_file = os.path.join(clf_dir, model_name+'.h5')\n",
    "\n",
    "if os.path.isfile(model_file):\n",
    "    print('found model file')"
   ]
  },
  {
   "cell_type": "code",
   "execution_count": 7,
   "metadata": {},
   "outputs": [],
   "source": [
    "# gpu config\n",
    "gpu_id = 5\n",
    "\n",
    "if gpu_id is not None:                                                     \n",
    "    gpu = '/gpu:' + str(gpu_id)                                            \n",
    "    os.environ[\"CUDA_VISIBLE_DEVICES\"] = str(gpu_id)                       \n",
    "    config = tf.ConfigProto()                                              \n",
    "    config.gpu_options.allow_growth = True                                 \n",
    "    config.allow_soft_placement = True                                     \n",
    "    set_session(tf.Session(config=config))                                 \n",
    "else:                                                                      \n",
    "    gpu = '/cpu:0'"
   ]
  },
  {
   "cell_type": "code",
   "execution_count": 8,
   "metadata": {
    "scrolled": false
   },
   "outputs": [
    {
     "name": "stdout",
     "output_type": "stream",
     "text": [
      "starting predict\n",
      "step 0\n",
      "step 10\n",
      "step 20\n",
      "step 30\n",
      "step 40\n",
      "step 50\n",
      "step 60\n",
      "step 70\n",
      "step 80\n",
      "step 90\n",
      "step 100\n",
      "step 110\n",
      "step 120\n",
      "step 130\n",
      "step 140\n",
      "step 150\n",
      "step 160\n",
      "step 170\n",
      "step 180\n",
      "step 190\n",
      "step 200\n",
      "step 210\n",
      "step 220\n",
      "step 230\n",
      "step 240\n",
      "step 250\n",
      "step 260\n",
      "step 270\n",
      "finished predict\n",
      "writing csv to ../runs/gan_20190419_0002_gpu=0_bs=4_enc=[16_32_32_32]_dec=[32_32_32_32_16_8]_cbn=16_lr=0.0001_b1=0.0_b2=0.9_ep=0.1_pl=25.0_vr=1.0_ti=False_is=5_cs=5_rf=10_rs=25_glw=[100.0_10.0_0.0_1.0]_clw=[1_1_10]_tag=brains_reg_gen_no_ti/predict/test/gen_250_04/clf_100.csv\n"
     ]
    }
   ],
   "source": [
    "print('starting predict')\n",
    "\n",
    "with tf.device(gpu):\n",
    "    \n",
    "    # load classifier model\n",
    "    classifier = keras.models.load_model(model_file)\n",
    "    \n",
    "    for i, (_, row) in enumerate(csv.iterrows()):\n",
    "        \n",
    "        if i % 10 == 0:\n",
    "            print('step', i)\n",
    "        \n",
    "        xr = load_nii(row['img_path_0'])[None, ..., None]\n",
    "        yr = load_nii(row['img_path_1'])[None, ..., None]\n",
    "        yf = load_nii(row['img_path_yf'])[None, ..., None]\n",
    "        \n",
    "        batch = np.concatenate([xr, yr, yf], axis=0)\n",
    "        \n",
    "        pred = classifier.predict([batch])\n",
    "        \n",
    "        csv.loc[csv.img_id_0 == row['img_id_0'], 'pAD_xr'] = pred[0, 1]\n",
    "        csv.loc[csv.img_id_0 == row['img_id_0'], 'pAD_yr'] = pred[1, 1]\n",
    "        csv.loc[csv.img_id_0 == row['img_id_0'], 'pAD_yf'] = pred[2, 1]\n",
    "        \n",
    "print('finished predict')\n",
    "\n",
    "csv_out_path = os.path.join(pre_dir, model_name+'.csv')\n",
    "\n",
    "print('writing csv to {}'.format(csv_out_path))\n",
    "\n",
    "csv.to_csv(csv_out_path, index=False)"
   ]
  },
  {
   "cell_type": "code",
   "execution_count": 9,
   "metadata": {},
   "outputs": [
    {
     "name": "stdout",
     "output_type": "stream",
     "text": [
      "0 clf_100.csv\n"
     ]
    }
   ],
   "source": [
    "clf_csvs = glob.glob(os.path.join(glob.escape(pre_dir), '[!meta]*.csv'))\n",
    "clf_csvs = sorted(clf_csvs)\n",
    "\n",
    "for i, clf_csv in enumerate(clf_csvs):\n",
    "    print(i, os.path.basename(clf_csv))"
   ]
  },
  {
   "cell_type": "code",
   "execution_count": 10,
   "metadata": {},
   "outputs": [
    {
     "name": "stdout",
     "output_type": "stream",
     "text": [
      "(271, 41)\n"
     ]
    }
   ],
   "source": [
    "csv_path = clf_csvs[0]\n",
    "csv = pd.read_csv(csv_path)\n",
    "print(csv.shape)"
   ]
  },
  {
   "cell_type": "code",
   "execution_count": 11,
   "metadata": {},
   "outputs": [
    {
     "name": "stdout",
     "output_type": "stream",
     "text": [
      "s: xr -> yr: 0.12592504433178195\n",
      "s: xr -> yf: 0.11167344633953892\n",
      "p: xr -> yr: 0.4026707866918259\n",
      "p: xr -> yf: 0.2197435671624414\n"
     ]
    }
   ],
   "source": [
    "scsv = csv[csv.pat_dx_1 == 2]\n",
    "print('s: xr -> yr:', (scsv.pAD_yr - scsv.pAD_xr).mean())\n",
    "print('s: xr -> yf:', (scsv.pAD_yf - scsv.pAD_xr).mean())\n",
    "\n",
    "pcsv = csv[csv.pat_dx_1 == 3]\n",
    "print('p: xr -> yr:', (pcsv.pAD_yr - pcsv.pAD_xr).mean())\n",
    "print('p: xr -> yf:', (pcsv.pAD_yf - pcsv.pAD_xr).mean())"
   ]
  },
  {
   "cell_type": "code",
   "execution_count": 12,
   "metadata": {},
   "outputs": [
    {
     "name": "stdout",
     "output_type": "stream",
     "text": [
      "pAD_xr      0.190828\n",
      "pAD_yr      0.416831\n",
      "pAD_yf      0.302534\n",
      "pat_dx_1    2.361624\n",
      "dtype: float64\n"
     ]
    },
    {
     "data": {
      "text/html": [
       "<div>\n",
       "<style scoped>\n",
       "    .dataframe tbody tr th:only-of-type {\n",
       "        vertical-align: middle;\n",
       "    }\n",
       "\n",
       "    .dataframe tbody tr th {\n",
       "        vertical-align: top;\n",
       "    }\n",
       "\n",
       "    .dataframe thead th {\n",
       "        text-align: right;\n",
       "    }\n",
       "</style>\n",
       "<table border=\"1\" class=\"dataframe\">\n",
       "  <thead>\n",
       "    <tr style=\"text-align: right;\">\n",
       "      <th></th>\n",
       "      <th>pAD_xr</th>\n",
       "      <th>pAD_yr</th>\n",
       "      <th>pAD_yf</th>\n",
       "      <th>pat_dx_1</th>\n",
       "    </tr>\n",
       "  </thead>\n",
       "  <tbody>\n",
       "    <tr>\n",
       "      <th>0</th>\n",
       "      <td>5.985183e-07</td>\n",
       "      <td>0.000010</td>\n",
       "      <td>0.000618</td>\n",
       "      <td>200.0</td>\n",
       "    </tr>\n",
       "    <tr>\n",
       "      <th>1</th>\n",
       "      <td>9.993588e+01</td>\n",
       "      <td>99.885106</td>\n",
       "      <td>97.904825</td>\n",
       "      <td>200.0</td>\n",
       "    </tr>\n",
       "    <tr>\n",
       "      <th>2</th>\n",
       "      <td>8.202813e-03</td>\n",
       "      <td>0.010353</td>\n",
       "      <td>8.282738</td>\n",
       "      <td>200.0</td>\n",
       "    </tr>\n",
       "    <tr>\n",
       "      <th>3</th>\n",
       "      <td>3.657352e-03</td>\n",
       "      <td>0.363139</td>\n",
       "      <td>24.198538</td>\n",
       "      <td>200.0</td>\n",
       "    </tr>\n",
       "    <tr>\n",
       "      <th>4</th>\n",
       "      <td>3.502458e-07</td>\n",
       "      <td>0.012852</td>\n",
       "      <td>0.016321</td>\n",
       "      <td>200.0</td>\n",
       "    </tr>\n",
       "    <tr>\n",
       "      <th>5</th>\n",
       "      <td>2.743703e-08</td>\n",
       "      <td>0.042301</td>\n",
       "      <td>0.012934</td>\n",
       "      <td>300.0</td>\n",
       "    </tr>\n",
       "    <tr>\n",
       "      <th>6</th>\n",
       "      <td>1.518643e+00</td>\n",
       "      <td>0.018634</td>\n",
       "      <td>7.457645</td>\n",
       "      <td>300.0</td>\n",
       "    </tr>\n",
       "    <tr>\n",
       "      <th>7</th>\n",
       "      <td>1.455752e-01</td>\n",
       "      <td>44.121897</td>\n",
       "      <td>80.367893</td>\n",
       "      <td>300.0</td>\n",
       "    </tr>\n",
       "    <tr>\n",
       "      <th>8</th>\n",
       "      <td>9.368780e+01</td>\n",
       "      <td>99.799275</td>\n",
       "      <td>41.987798</td>\n",
       "      <td>300.0</td>\n",
       "    </tr>\n",
       "    <tr>\n",
       "      <th>9</th>\n",
       "      <td>1.230723e-05</td>\n",
       "      <td>0.000216</td>\n",
       "      <td>0.005790</td>\n",
       "      <td>200.0</td>\n",
       "    </tr>\n",
       "  </tbody>\n",
       "</table>\n",
       "</div>"
      ],
      "text/plain": [
       "         pAD_xr     pAD_yr     pAD_yf  pat_dx_1\n",
       "0  5.985183e-07   0.000010   0.000618     200.0\n",
       "1  9.993588e+01  99.885106  97.904825     200.0\n",
       "2  8.202813e-03   0.010353   8.282738     200.0\n",
       "3  3.657352e-03   0.363139  24.198538     200.0\n",
       "4  3.502458e-07   0.012852   0.016321     200.0\n",
       "5  2.743703e-08   0.042301   0.012934     300.0\n",
       "6  1.518643e+00   0.018634   7.457645     300.0\n",
       "7  1.455752e-01  44.121897  80.367893     300.0\n",
       "8  9.368780e+01  99.799275  41.987798     300.0\n",
       "9  1.230723e-05   0.000216   0.005790     200.0"
      ]
     },
     "execution_count": 12,
     "metadata": {},
     "output_type": "execute_result"
    }
   ],
   "source": [
    "print(csv[['pAD_xr', 'pAD_yr', 'pAD_yf', 'pat_dx_1']].mean())\n",
    "csv[['pAD_xr', 'pAD_yr', 'pAD_yf', 'pat_dx_1']].head(10)*100"
   ]
  },
  {
   "cell_type": "code",
   "execution_count": 51,
   "metadata": {},
   "outputs": [],
   "source": [
    "def get_metric(csv_in, col, t, metric):\n",
    "\n",
    "    true_pos = ((csv_in[col] > t) & (csv_in.pat_dx_1 == 3)).sum()\n",
    "    true_neg = ((csv_in[col] <= t) & (csv_in.pat_dx_1 == 2)).sum()\n",
    "    false_pos = ((csv_in[col] > t) & (csv_in.pat_dx_1 == 2)).sum()\n",
    "    false_neg = ((csv_in[col] <= t) & (csv_in.pat_dx_1 == 3)).sum()\n",
    "    \n",
    "    true = true_pos + true_neg\n",
    "    false = false_pos + false_neg\n",
    "\n",
    "    if metric == 'f1':\n",
    "        prec = true_pos / (true_pos + false_pos)\n",
    "        reca = true_pos / (true_pos + false_neg)\n",
    "\n",
    "        f1_score = 2 * (prec * reca) / (prec + reca)\n",
    "        m = f1_score\n",
    "        \n",
    "    elif metric == 'acc':\n",
    "        acc_p = true_pos / (true_pos + false_neg)\n",
    "        acc_s = true_neg / (true_neg + false_pos)\n",
    "\n",
    "        balanced_acc = (acc_p + acc_s) / 2\n",
    "        m = balanced_acc\n",
    "    \n",
    "    return (round(m, 3), true, false)"
   ]
  },
  {
   "cell_type": "code",
   "execution_count": 52,
   "metadata": {},
   "outputs": [],
   "source": [
    "def get_best_threshold(csv_in, col, metric):\n",
    "    l = []\n",
    "    \n",
    "    for t in np.arange(0, 1, 0.01):\n",
    "        m = get_metric(csv_in, col, t, metric)\n",
    "        l.append((*m, t))\n",
    "        \n",
    "    return max(l)[3]"
   ]
  },
  {
   "cell_type": "code",
   "execution_count": 53,
   "metadata": {},
   "outputs": [],
   "source": [
    "def get_split_metric(csv_in, col, cv_split, metric):\n",
    "    \n",
    "    csv_split = csv_in[csv_in.cv_split == cv_split]\n",
    "    csv_other = csv_in[csv_in.cv_split != cv_split]\n",
    "    \n",
    "    t = get_best_threshold(csv_other, col, metric)\n",
    "    \n",
    "    m = get_metric(csv_split, col, t, metric)\n",
    "    print('split {}: {}'.format(cv_split, m))\n",
    "    \n",
    "    return m"
   ]
  },
  {
   "cell_type": "code",
   "execution_count": 54,
   "metadata": {},
   "outputs": [],
   "source": [
    "def get_cv_metric(csv_in, col, metric):\n",
    "    l = [get_split_metric(csv_in, col, s, metric)[0] for s in range(5)]\n",
    "    return np.array(l).mean()"
   ]
  },
  {
   "cell_type": "code",
   "execution_count": 55,
   "metadata": {},
   "outputs": [],
   "source": [
    "# create 5 folds\n",
    "csv = csv.sample(frac=1).reset_index(drop=True)\n",
    "\n",
    "pMCI = csv[csv.pat_dx_1 == 3].img_id_0.values\n",
    "sMCI = csv[csv.pat_dx_1 == 2].img_id_0.values\n",
    "\n",
    "p_bins = np.linspace(0, len(pMCI), 6).astype(int)[1:-1]\n",
    "s_bins = np.linspace(0, len(sMCI), 6).astype(int)[1:-1]\n",
    "\n",
    "p_splits = np.split(pMCI, p_bins)\n",
    "s_splits = np.split(sMCI, s_bins)"
   ]
  },
  {
   "cell_type": "code",
   "execution_count": 57,
   "metadata": {
    "scrolled": true
   },
   "outputs": [],
   "source": [
    "# write folds to csv\n",
    "for i, (p_split, s_split) in enumerate(zip(p_splits, s_splits)):\n",
    "    csv.loc[csv.img_id_0.isin(p_split), 'cv_split'] = i\n",
    "    csv.loc[csv.img_id_0.isin(s_split), 'cv_split'] = i"
   ]
  },
  {
   "cell_type": "code",
   "execution_count": 58,
   "metadata": {},
   "outputs": [
    {
     "name": "stdout",
     "output_type": "stream",
     "text": [
      "split 0: (0.682, 39, 14)\n",
      "split 1: (0.596, 36, 19)\n",
      "split 2: (0.595, 38, 15)\n",
      "split 3: (0.558, 36, 19)\n",
      "split 4: (0.45, 33, 22)\n"
     ]
    },
    {
     "data": {
      "text/plain": [
       "0.5762"
      ]
     },
     "execution_count": 58,
     "metadata": {},
     "output_type": "execute_result"
    }
   ],
   "source": [
    "get_cv_metric(csv, 'pAD_xr', 'f1')"
   ]
  },
  {
   "cell_type": "code",
   "execution_count": 59,
   "metadata": {},
   "outputs": [
    {
     "name": "stdout",
     "output_type": "stream",
     "text": [
      "split 0: (0.654, 35, 18)\n",
      "split 1: (0.622, 38, 17)\n",
      "split 2: (0.667, 39, 14)\n",
      "split 3: (0.655, 36, 19)\n",
      "split 4: (0.683, 42, 13)\n"
     ]
    },
    {
     "data": {
      "text/plain": [
       "0.6561999999999999"
      ]
     },
     "execution_count": 59,
     "metadata": {},
     "output_type": "execute_result"
    }
   ],
   "source": [
    "get_cv_metric(csv, 'pAD_yr', 'f1')"
   ]
  },
  {
   "cell_type": "code",
   "execution_count": 60,
   "metadata": {},
   "outputs": [
    {
     "name": "stdout",
     "output_type": "stream",
     "text": [
      "split 0: (0.667, 37, 16)\n",
      "split 1: (0.636, 39, 16)\n",
      "split 2: (0.531, 30, 23)\n",
      "split 3: (0.591, 37, 18)\n",
      "split 4: (0.55, 37, 18)\n"
     ]
    },
    {
     "data": {
      "text/plain": [
       "0.595"
      ]
     },
     "execution_count": 60,
     "metadata": {},
     "output_type": "execute_result"
    }
   ],
   "source": [
    "get_cv_metric(csv, 'pAD_yf', 'f1')"
   ]
  },
  {
   "cell_type": "code",
   "execution_count": 61,
   "metadata": {},
   "outputs": [
    {
     "name": "stdout",
     "output_type": "stream",
     "text": [
      "split 0: (0.748, 39, 14)\n",
      "split 1: (0.664, 36, 19)\n",
      "split 2: (0.687, 38, 15)\n",
      "split 3: (0.643, 36, 19)\n",
      "split 4: (0.568, 33, 22)\n"
     ]
    },
    {
     "data": {
      "text/plain": [
       "0.662"
      ]
     },
     "execution_count": 61,
     "metadata": {},
     "output_type": "execute_result"
    }
   ],
   "source": [
    "get_cv_metric(csv, 'pAD_xr', 'acc')"
   ]
  },
  {
   "cell_type": "code",
   "execution_count": 62,
   "metadata": {},
   "outputs": [
    {
     "name": "stdout",
     "output_type": "stream",
     "text": [
      "split 0: (0.712, 35, 18)\n",
      "split 1: (0.693, 38, 17)\n",
      "split 2: (0.736, 39, 14)\n",
      "split 3: (0.707, 36, 19)\n",
      "split 4: (0.75, 42, 13)\n"
     ]
    },
    {
     "data": {
      "text/plain": [
       "0.7196"
      ]
     },
     "execution_count": 62,
     "metadata": {},
     "output_type": "execute_result"
    }
   ],
   "source": [
    "get_cv_metric(csv, 'pAD_yr', 'acc')"
   ]
  },
  {
   "cell_type": "code",
   "execution_count": 63,
   "metadata": {},
   "outputs": [
    {
     "name": "stdout",
     "output_type": "stream",
     "text": [
      "split 0: (0.73, 37, 16)\n",
      "split 1: (0.696, 39, 16)\n",
      "split 2: (0.592, 30, 23)\n",
      "split 3: (0.668, 37, 18)\n",
      "split 4: (0.646, 37, 18)\n"
     ]
    },
    {
     "data": {
      "text/plain": [
       "0.6664"
      ]
     },
     "execution_count": 63,
     "metadata": {},
     "output_type": "execute_result"
    }
   ],
   "source": [
    "get_cv_metric(csv, 'pAD_yf', 'acc')"
   ]
  }
 ],
 "metadata": {
  "kernelspec": {
   "display_name": "Python 3",
   "language": "python",
   "name": "python3"
  },
  "language_info": {
   "codemirror_mode": {
    "name": "ipython",
    "version": 3
   },
   "file_extension": ".py",
   "mimetype": "text/x-python",
   "name": "python",
   "nbconvert_exporter": "python",
   "pygments_lexer": "ipython3",
   "version": "3.6.8"
  }
 },
 "nbformat": 4,
 "nbformat_minor": 2
}
