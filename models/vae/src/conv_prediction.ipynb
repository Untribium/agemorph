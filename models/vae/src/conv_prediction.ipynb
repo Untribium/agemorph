{
 "cells": [
  {
   "cell_type": "code",
   "execution_count": 2,
   "metadata": {
    "scrolled": true
   },
   "outputs": [
    {
     "name": "stderr",
     "output_type": "stream",
     "text": [
      "Using TensorFlow backend.\n"
     ]
    }
   ],
   "source": [
    "import os\n",
    "import sys\n",
    "import glob\n",
    "\n",
    "import tensorflow as tf\n",
    "import numpy as np\n",
    "import pandas as pd\n",
    "import keras\n",
    "from keras.backend.tensorflow_backend import set_session\n",
    "\n",
    "import matplotlib.pyplot as plt\n",
    "\n",
    "import nibabel as nib"
   ]
  },
  {
   "cell_type": "code",
   "execution_count": 3,
   "metadata": {},
   "outputs": [],
   "source": [
    "def plot(img):\n",
    "    plt.figure()\n",
    "    plt.imshow(img[:, 40, :], cmap='gray')\n",
    "    \n",
    "def load_nii(path):\n",
    "    nii = nib.load(path)\n",
    "    vol = nii.get_data().astype(np.float32)\n",
    "    return np.squeeze(vol)"
   ]
  },
  {
   "cell_type": "code",
   "execution_count": 4,
   "metadata": {},
   "outputs": [
    {
     "name": "stdout",
     "output_type": "stream",
     "text": [
      "found 1 runs \n",
      "\n",
      "0 ../runs/vae_20190417_1843_gpu=6_bs=4_enc=[16_32_32_32]_dec=[32_32_32_32_16_8]_lr=0.0001_pl=100_is=0.01_vr=1.0_lw=[1_1]_tag=brains_test/predict \n",
      "\n"
     ]
    }
   ],
   "source": [
    "run_dirs = glob.glob('../runs/*/predict')\n",
    "run_dirs = sorted(run_dirs)\n",
    "\n",
    "print('found {} runs'.format(len(run_dirs)), '\\n')\n",
    "\n",
    "for i, run in enumerate(run_dirs):\n",
    "    print(i, run, '\\n')"
   ]
  },
  {
   "cell_type": "code",
   "execution_count": 8,
   "metadata": {},
   "outputs": [
    {
     "name": "stdout",
     "output_type": "stream",
     "text": [
      "found 1 pre_dirs\n",
      "0 test/500_04\n"
     ]
    }
   ],
   "source": [
    "# set run dir\n",
    "run_dir = run_dirs[0]\n",
    "\n",
    "pre_dirs = glob.glob(os.path.join(glob.escape(run_dir), '*', '*'))\n",
    "pre_dirs = sorted(pre_dirs)\n",
    "\n",
    "print('found {} pre_dirs'.format(len(pre_dirs)))\n",
    "\n",
    "for i, pre_dir in enumerate(pre_dirs):\n",
    "    #print(i, os.path.basename(pre_dir))\n",
    "    print(i, pre_dir.split('/')[-2] + '/' + pre_dir.split('/')[-1])"
   ]
  },
  {
   "cell_type": "code",
   "execution_count": 9,
   "metadata": {},
   "outputs": [
    {
     "name": "stdout",
     "output_type": "stream",
     "text": [
      "found meta.csv: (271, 37)\n"
     ]
    }
   ],
   "source": [
    "# generator config, run_dir, etc...\n",
    "pre_dir = pre_dirs[0]\n",
    "\n",
    "csv_path = os.path.join(pre_dir, 'meta.csv')\n",
    "csv = pd.read_csv(csv_path)\n",
    "\n",
    "print('found meta.csv: {}'.format(csv.shape))"
   ]
  },
  {
   "cell_type": "code",
   "execution_count": 53,
   "metadata": {},
   "outputs": [
    {
     "name": "stdout",
     "output_type": "stream",
     "text": [
      "found model file\n"
     ]
    }
   ],
   "source": [
    "# classifier\n",
    "clf_dir = '../../../../backup/agemorph/models/clf/clf_20190330_1549_gpu=4_bs=8_lr=0.001_b1=0.9_b2=0.999_ep=0.1_bn=True_ds=1_lw=[1.0]/'\n",
    "model_name = 'clf_200'\n",
    "model_file = os.path.join(clf_dir, model_name+'.h5')\n",
    "\n",
    "if os.path.isfile(model_file):\n",
    "    print('found model file')"
   ]
  },
  {
   "cell_type": "code",
   "execution_count": 11,
   "metadata": {},
   "outputs": [],
   "source": [
    "# gpu config\n",
    "gpu_id = 7\n",
    "\n",
    "if gpu_id is not None:                                                     \n",
    "    gpu = '/gpu:' + str(gpu_id)                                            \n",
    "    os.environ[\"CUDA_VISIBLE_DEVICES\"] = str(gpu_id)                       \n",
    "    config = tf.ConfigProto()                                              \n",
    "    config.gpu_options.allow_growth = True                                 \n",
    "    config.allow_soft_placement = True                                     \n",
    "    set_session(tf.Session(config=config))                                 \n",
    "else:                                                                      \n",
    "    gpu = '/cpu:0'"
   ]
  },
  {
   "cell_type": "code",
   "execution_count": 54,
   "metadata": {
    "scrolled": false
   },
   "outputs": [
    {
     "name": "stdout",
     "output_type": "stream",
     "text": [
      "starting predict\n",
      "step 0\n",
      "step 10\n",
      "step 20\n",
      "step 30\n",
      "step 40\n",
      "step 50\n",
      "step 60\n",
      "step 70\n",
      "step 80\n",
      "step 90\n",
      "step 100\n",
      "step 110\n",
      "step 120\n",
      "step 130\n",
      "step 140\n",
      "step 150\n",
      "step 160\n",
      "step 170\n",
      "step 180\n",
      "step 190\n",
      "step 200\n",
      "step 210\n",
      "step 220\n",
      "step 230\n",
      "step 240\n",
      "step 250\n",
      "step 260\n",
      "step 270\n",
      "finished predict\n",
      "writing csv to ../runs/vae_20190417_1843_gpu=6_bs=4_enc=[16_32_32_32]_dec=[32_32_32_32_16_8]_lr=0.0001_pl=100_is=0.01_vr=1.0_lw=[1_1]_tag=brains_test/predict/test/500_04/clf_200.csv\n"
     ]
    }
   ],
   "source": [
    "print('starting predict')\n",
    "\n",
    "with tf.device(gpu):\n",
    "    \n",
    "    # load classifier model\n",
    "    classifier = keras.models.load_model(model_file)\n",
    "    \n",
    "    for i, (_, row) in enumerate(csv.iterrows()):\n",
    "        \n",
    "        if i % 10 == 0:\n",
    "            print('step', i)\n",
    "        \n",
    "        xr = load_nii(row['img_path_0'])[None, ..., None]\n",
    "        yr = load_nii(row['img_path_1'])[None, ..., None]\n",
    "        yf = load_nii(row['img_path_yf'])[None, ..., None]\n",
    "        \n",
    "        batch = np.concatenate([xr, yr, yf], axis=0)\n",
    "        \n",
    "        pred = classifier.predict([batch])\n",
    "        \n",
    "        csv.loc[csv.img_id_0 == row['img_id_0'], 'pAD_xr'] = pred[0, 1]\n",
    "        csv.loc[csv.img_id_0 == row['img_id_0'], 'pAD_yr'] = pred[1, 1]\n",
    "        csv.loc[csv.img_id_0 == row['img_id_0'], 'pAD_yf'] = pred[2, 1]\n",
    "        \n",
    "print('finished predict')\n",
    "\n",
    "csv_out_path = os.path.join(pre_dir, model_name+'.csv')\n",
    "\n",
    "print('writing csv to {}'.format(csv_out_path))\n",
    "\n",
    "csv.to_csv(csv_out_path, index=False)"
   ]
  },
  {
   "cell_type": "code",
   "execution_count": 55,
   "metadata": {},
   "outputs": [
    {
     "name": "stdout",
     "output_type": "stream",
     "text": [
      "0 clf_100.csv\n",
      "1 clf_200.csv\n"
     ]
    }
   ],
   "source": [
    "clf_csvs = glob.glob(os.path.join(glob.escape(pre_dir), '[!meta]*.csv'))\n",
    "clf_csvs = sorted(clf_csvs)\n",
    "\n",
    "for i, clf_csv in enumerate(clf_csvs):\n",
    "    print(i, os.path.basename(clf_csv))"
   ]
  },
  {
   "cell_type": "code",
   "execution_count": 56,
   "metadata": {},
   "outputs": [
    {
     "name": "stdout",
     "output_type": "stream",
     "text": [
      "(271, 41)\n"
     ]
    }
   ],
   "source": [
    "csv_path = clf_csvs[1]\n",
    "csv = pd.read_csv(csv_path)\n",
    "print(csv.shape)"
   ]
  },
  {
   "cell_type": "code",
   "execution_count": 58,
   "metadata": {},
   "outputs": [],
   "source": [
    "def acc_threshold(csv, col, t):\n",
    "    true_pos = ((csv[col] > t) & (csv.pat_dx_1 == 3)).sum()\n",
    "    true_neg = ((csv[col] <= t) & (csv.pat_dx_1 == 2)).sum()\n",
    "    false_pos = ((csv[col] > t) & (csv.pat_dx_1 == 2)).sum()\n",
    "    false_neg = ((csv[col] <= t) & (csv.pat_dx_1 == 3)).sum()\n",
    "\n",
    "    acc_p = true_pos / (true_pos + false_neg)\n",
    "    acc_s = true_neg / (true_neg + false_pos)\n",
    "\n",
    "    balanced_acc = (acc_p + acc_s) / 2\n",
    "\n",
    "    true = true_pos + true_neg\n",
    "    false = false_pos + false_neg\n",
    "    \n",
    "    return (round(balanced_acc, 3), true, false, round(acc_p, 2), round(acc_s, 2), round(t, 2))"
   ]
  },
  {
   "cell_type": "code",
   "execution_count": 59,
   "metadata": {},
   "outputs": [],
   "source": [
    "def f1_threshold(csv, col, t):\n",
    "    true_pos = ((csv[col] > t) & (csv.pat_dx_1 == 3)).sum()\n",
    "    true_neg = ((csv[col] <= t) & (csv.pat_dx_1 == 2)).sum()\n",
    "    false_pos = ((csv[col] > t) & (csv.pat_dx_1 == 2)).sum()\n",
    "    false_neg = ((csv[col] <= t) & (csv.pat_dx_1 == 3)).sum()\n",
    "\n",
    "    prec = true_pos / (true_pos + false_pos)\n",
    "    reca = true_pos / (true_pos + false_neg)\n",
    "    \n",
    "    f1 = 2 * (prec * reca) / (prec + reca)\n",
    "\n",
    "    true = true_pos + true_neg\n",
    "    false = false_pos + false_neg\n",
    "    \n",
    "    return (round(f1, 3), true, false, round(prec, 2), round(reca, 2), round(t, 2))"
   ]
  },
  {
   "cell_type": "code",
   "execution_count": 60,
   "metadata": {},
   "outputs": [],
   "source": [
    "def best_threshold_acc(csv, col):\n",
    "    l = []\n",
    "    \n",
    "    for t in np.arange(0, 1, 0.01):\n",
    "        l.append(acc_threshold(csv, col, t))\n",
    "        \n",
    "    return max(l)"
   ]
  },
  {
   "cell_type": "code",
   "execution_count": 61,
   "metadata": {},
   "outputs": [],
   "source": [
    "def best_threshold_f1(csv, col):\n",
    "    l = []\n",
    "    \n",
    "    for t in np.arange(0, 1, 0.01):\n",
    "        l.append(f1_threshold(csv, col, t))\n",
    "        \n",
    "    return max(l)"
   ]
  },
  {
   "cell_type": "code",
   "execution_count": 62,
   "metadata": {
    "scrolled": true
   },
   "outputs": [],
   "source": [
    "def acc_cv(csv_in, col, cv_split):\n",
    "    \n",
    "    csv = csv_in[csv_in.cv_split != cv_split]\n",
    "    \n",
    "    t = best_threshold_acc(csv, col)[5]\n",
    "    print(t)\n",
    "    \n",
    "    csv = csv_in[csv_in.cv_split == cv_split]\n",
    "    \n",
    "    acc = acc_threshold(csv, col, t)\n",
    "    print(acc)\n",
    "    \n",
    "    return acc"
   ]
  },
  {
   "cell_type": "code",
   "execution_count": 63,
   "metadata": {},
   "outputs": [],
   "source": [
    "def f1_cv(csv_in, col, cv_split):\n",
    "    \n",
    "    csv = csv_in[csv_in.cv_split != cv_split]\n",
    "    \n",
    "    t = best_threshold_f1(csv, col)[5]\n",
    "    print(t)\n",
    "    \n",
    "    csv = csv_in[csv_in.cv_split == cv_split]\n",
    "    \n",
    "    f1 = f1_threshold(csv, col, t)\n",
    "    print(f1)\n",
    "    \n",
    "    return f1"
   ]
  },
  {
   "cell_type": "code",
   "execution_count": 80,
   "metadata": {},
   "outputs": [],
   "source": [
    "# create 5 folds\n",
    "csv = csv.sample(frac=1).reset_index(drop=True)\n",
    "\n",
    "pMCI = csv[csv.pat_dx_1 == 3].img_id_0.values\n",
    "sMCI = csv[csv.pat_dx_1 == 2].img_id_0.values\n",
    "\n",
    "p_splits = np.split(pMCI, np.linspace(0, len(pMCI), 6).astype(int)[1:-1])\n",
    "s_splits = np.split(sMCI, np.linspace(0, len(sMCI), 6).astype(int)[1:-1])"
   ]
  },
  {
   "cell_type": "code",
   "execution_count": 81,
   "metadata": {},
   "outputs": [],
   "source": [
    "# write folds to csv\n",
    "for i, (p_split, s_split) in enumerate(zip(p_splits, s_splits)):\n",
    "    csv.loc[csv.img_id_0.isin(p_split), 'cv_split'] = i\n",
    "    csv.loc[csv.img_id_0.isin(s_split), 'cv_split'] = i"
   ]
  },
  {
   "cell_type": "code",
   "execution_count": 82,
   "metadata": {},
   "outputs": [
    {
     "name": "stdout",
     "output_type": "stream",
     "text": [
      "0.01\n",
      "(0.609, 35, 18, 0.52, 0.74, 0.01)\n",
      "0.01\n",
      "(0.558, 36, 19, 0.52, 0.6, 0.01)\n",
      "0.01\n",
      "(0.703, 42, 11, 0.72, 0.68, 0.01)\n",
      "0.01\n",
      "(0.5, 33, 22, 0.46, 0.55, 0.01)\n",
      "0.01\n",
      "(0.55, 37, 18, 0.55, 0.55, 0.01)\n",
      "\n",
      "f1_xr: 0.584\n"
     ]
    }
   ],
   "source": [
    "# F1 for x\n",
    "l = [f1_cv(csv, 'pAD_xr', i)[0] for i in range(5)]\n",
    "\n",
    "print('\\nf1_xr:', round(np.array(l).mean(), 3))"
   ]
  },
  {
   "cell_type": "code",
   "execution_count": 83,
   "metadata": {},
   "outputs": [
    {
     "name": "stdout",
     "output_type": "stream",
     "text": [
      "0.02\n",
      "(0.51, 28, 25, 0.41, 0.68, 0.02)\n",
      "0.02\n",
      "(0.556, 31, 24, 0.44, 0.75, 0.02)\n",
      "0.02\n",
      "(0.762, 43, 10, 0.7, 0.84, 0.02)\n",
      "0.02\n",
      "(0.643, 35, 20, 0.5, 0.9, 0.02)\n",
      "0.02\n",
      "(0.615, 35, 20, 0.5, 0.8, 0.02)\n",
      "\n",
      "f1_yf: 0.617\n"
     ]
    }
   ],
   "source": [
    "#F1 y_fake\n",
    "l = [f1_cv(csv, 'pAD_yf', i)[0] for i in range(5)]\n",
    "\n",
    "print('\\nf1_yf:', round(np.array(l).mean(), 3))"
   ]
  },
  {
   "cell_type": "code",
   "execution_count": 84,
   "metadata": {},
   "outputs": [
    {
     "name": "stdout",
     "output_type": "stream",
     "text": [
      "0.35\n",
      "(0.591, 35, 18, 0.52, 0.68, 0.35)\n",
      "0.35\n",
      "(0.653, 38, 17, 0.55, 0.8, 0.35)\n",
      "0.01\n",
      "(0.766, 42, 11, 0.64, 0.95, 0.01)\n",
      "0.01\n",
      "(0.679, 38, 17, 0.55, 0.9, 0.01)\n",
      "0.02\n",
      "(0.653, 38, 17, 0.55, 0.8, 0.02)\n",
      "\n",
      "f1_yr: 0.668\n"
     ]
    }
   ],
   "source": [
    "# F1 y_real\n",
    "l = [f1_cv(csv, 'pAD_yr', i)[0] for i in range(5)]\n",
    "\n",
    "print('\\nf1_yr:', round(np.array(l).mean(), 3))"
   ]
  },
  {
   "cell_type": "code",
   "execution_count": 85,
   "metadata": {
    "scrolled": false
   },
   "outputs": [
    {
     "name": "stdout",
     "output_type": "stream",
     "text": [
      "0.01\n",
      "(0.677, 35, 18, 0.74, 0.62, 0.01)\n",
      "0.01\n",
      "(0.643, 36, 19, 0.6, 0.69, 0.01)\n",
      "0.01\n",
      "(0.769, 42, 11, 0.68, 0.85, 0.01)\n",
      "0.01\n",
      "(0.589, 33, 22, 0.55, 0.63, 0.01)\n",
      "0.01\n",
      "(0.646, 37, 18, 0.55, 0.74, 0.01)\n"
     ]
    },
    {
     "data": {
      "text/plain": [
       "0.6648"
      ]
     },
     "execution_count": 85,
     "metadata": {},
     "output_type": "execute_result"
    }
   ],
   "source": [
    "# balanced acc x_real\n",
    "l = [acc_cv(csv, 'pAD_xr', i)[0] for i in range(5)]\n",
    "\n",
    "np.array(l).mean()"
   ]
  },
  {
   "cell_type": "code",
   "execution_count": 86,
   "metadata": {
    "scrolled": true
   },
   "outputs": [
    {
     "name": "stdout",
     "output_type": "stream",
     "text": [
      "0.02\n",
      "(0.563, 28, 25, 0.68, 0.44, 0.02)\n",
      "0.02\n",
      "(0.604, 31, 24, 0.75, 0.46, 0.02)\n",
      "0.59\n",
      "(0.652, 38, 15, 0.42, 0.88, 0.59)\n",
      "0.02\n",
      "(0.693, 35, 20, 0.9, 0.49, 0.02)\n",
      "0.02\n",
      "(0.671, 35, 20, 0.8, 0.54, 0.02)\n"
     ]
    },
    {
     "data": {
      "text/plain": [
       "0.6365999999999999"
      ]
     },
     "execution_count": 86,
     "metadata": {},
     "output_type": "execute_result"
    }
   ],
   "source": [
    "# balanced acc y_fake\n",
    "l = [acc_cv(csv, 'pAD_yf', i)[0] for i in range(5)]\n",
    "\n",
    "np.array(l).mean()"
   ]
  },
  {
   "cell_type": "code",
   "execution_count": 87,
   "metadata": {
    "scrolled": false
   },
   "outputs": [
    {
     "name": "stdout",
     "output_type": "stream",
     "text": [
      "0.35\n",
      "(0.666, 35, 18, 0.68, 0.65, 0.35)\n",
      "0.35\n",
      "(0.714, 38, 17, 0.8, 0.63, 0.35)\n",
      "0.01\n",
      "(0.827, 42, 11, 0.95, 0.71, 0.01)\n",
      "0.89\n",
      "(0.739, 42, 13, 0.65, 0.83, 0.89)\n",
      "0.89\n",
      "(0.7, 40, 15, 0.6, 0.8, 0.89)\n"
     ]
    },
    {
     "data": {
      "text/plain": [
       "0.7292"
      ]
     },
     "execution_count": 87,
     "metadata": {},
     "output_type": "execute_result"
    }
   ],
   "source": [
    "# balanced acc y_real\n",
    "l = [acc_cv(csv, 'pAD_yr', i)[0] for i in range(5)]\n",
    "\n",
    "np.array(l).mean()"
   ]
  }
 ],
 "metadata": {
  "kernelspec": {
   "display_name": "Python 3",
   "language": "python",
   "name": "python3"
  },
  "language_info": {
   "codemirror_mode": {
    "name": "ipython",
    "version": 3
   },
   "file_extension": ".py",
   "mimetype": "text/x-python",
   "name": "python",
   "nbconvert_exporter": "python",
   "pygments_lexer": "ipython3",
   "version": "3.6.8"
  }
 },
 "nbformat": 4,
 "nbformat_minor": 2
}
