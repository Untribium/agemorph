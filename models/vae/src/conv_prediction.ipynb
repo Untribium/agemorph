{
 "cells": [
  {
   "cell_type": "code",
   "execution_count": 1,
   "metadata": {
    "scrolled": true
   },
   "outputs": [
    {
     "name": "stderr",
     "output_type": "stream",
     "text": [
      "Using TensorFlow backend.\n"
     ]
    }
   ],
   "source": [
    "import os\n",
    "import sys\n",
    "import glob\n",
    "\n",
    "import tensorflow as tf\n",
    "import numpy as np\n",
    "import pandas as pd\n",
    "import keras\n",
    "from keras.backend.tensorflow_backend import set_session\n",
    "\n",
    "import matplotlib.pyplot as plt\n",
    "\n",
    "import nibabel as nib"
   ]
  },
  {
   "cell_type": "code",
   "execution_count": 2,
   "metadata": {},
   "outputs": [],
   "source": [
    "def load_nii(path):\n",
    "    nii = nib.load(path)\n",
    "    vol = nii.get_data().astype(np.float32)\n",
    "    return np.squeeze(vol)"
   ]
  },
  {
   "cell_type": "code",
   "execution_count": 3,
   "metadata": {
    "scrolled": false
   },
   "outputs": [
    {
     "name": "stdout",
     "output_type": "stream",
     "text": [
      "found 3 runs \n",
      "\n",
      "0 ../runs/vae_20190417_1843_gpu=6_bs=4_enc=[16_32_32_32]_dec=[32_32_32_32_16_8]_lr=0.0001_pl=100_is=0.01_vr=1.0_lw=[1_1]_tag=brains_test/predict \n",
      "\n",
      "1 ../runs/vae_20190520_0944_gpu=3_bs=16_enc=[16_32_32_32]_dec=[32_32_32_32_16_8]_lr=0.0001_pl=100_is=0.01_vr=0.5_lw=[1_1]_tag=voxelmorph_s1s2s3s4_s0/predict \n",
      "\n",
      "2 ../runs/vae_20190520_2040_gpu=6_bs=16_enc=[16_32_32_32]_dec=[32_32_32_32_16_8]_lr=0.0001_pl=100_is=0.01_vr=0.5_lw=[1_1]_tag=split5_s1s2s3s4_s0_full_size/predict \n",
      "\n"
     ]
    }
   ],
   "source": [
    "run_dirs = glob.glob('../runs/*/predict')\n",
    "run_dirs = sorted(run_dirs)\n",
    "\n",
    "print('found {} runs'.format(len(run_dirs)), '\\n')\n",
    "\n",
    "for i, run in enumerate(run_dirs):\n",
    "    print(i, run, '\\n')"
   ]
  },
  {
   "cell_type": "code",
   "execution_count": 4,
   "metadata": {},
   "outputs": [
    {
     "name": "stdout",
     "output_type": "stream",
     "text": [
      "found 2 pre_dirs\n",
      "0 split_test/gen_040_04\n",
      "1 split_test/gen_056_04\n"
     ]
    }
   ],
   "source": [
    "# set run dir\n",
    "run_dir = run_dirs[2]\n",
    "\n",
    "pre_dirs = glob.glob(os.path.join(glob.escape(run_dir), '*', '*'))\n",
    "pre_dirs = sorted(pre_dirs)\n",
    "\n",
    "print('found {} pre_dirs'.format(len(pre_dirs)))\n",
    "\n",
    "for i, pre_dir in enumerate(pre_dirs):\n",
    "    #print(i, os.path.basename(pre_dir))\n",
    "    print(i, pre_dir.split('/')[-2] + '/' + pre_dir.split('/')[-1])"
   ]
  },
  {
   "cell_type": "code",
   "execution_count": 5,
   "metadata": {},
   "outputs": [
    {
     "name": "stdout",
     "output_type": "stream",
     "text": [
      "found meta.csv: (271, 40)\n"
     ]
    }
   ],
   "source": [
    "# generator config, run_dir, etc...\n",
    "pre_dir = pre_dirs[1]\n",
    "\n",
    "csv_path = os.path.join(pre_dir, 'meta.csv')\n",
    "csv = pd.read_csv(csv_path)\n",
    "\n",
    "print('found meta.csv: {}'.format(csv.shape))"
   ]
  },
  {
   "cell_type": "code",
   "execution_count": 6,
   "metadata": {
    "scrolled": true
   },
   "outputs": [
    {
     "name": "stdout",
     "output_type": "stream",
     "text": [
      "found model file\n"
     ]
    }
   ],
   "source": [
    "# classifier\n",
    "#clf_dir = '../../dx/runs/clf_20190516_2031_gpu=4_bs=32_lr=0.0001_b1=0.9_b2=0.999_ep=0.01_bn=True_mp=True_lk=0.0_ls=[16_2_32_1_32_2_64_1_64_2_128_1_128_2_256_1_256_1]_tag=split5_s2s4_s1s3/'\n",
    "clf_dir = '../../dx/runs/clf_20190520_1945_gpu=6_bs=32_lr=0.0001_b1=0.9_b2=0.999_ep=0.0001_bn=True_mp=True_lk=0.0_ls=[16_2_32_1_32_2_64_1_64_2_128_1_128_2_256_1_256_1]_tag=split5_full_size_s1s2s3s4_s0/'\n",
    "\n",
    "model_name = 'clf_0010'\n",
    "model_file = os.path.join(clf_dir, model_name+'.h5')\n",
    "\n",
    "if os.path.isfile(model_file):\n",
    "    print('found model file')\n",
    "else:\n",
    "    print('model file not found!')"
   ]
  },
  {
   "cell_type": "code",
   "execution_count": 7,
   "metadata": {},
   "outputs": [],
   "source": [
    "# gpu config\n",
    "gpu_id = 6\n",
    "\n",
    "if gpu_id is not None:                                                     \n",
    "    gpu = '/gpu:' + str(gpu_id)                                            \n",
    "    os.environ[\"CUDA_VISIBLE_DEVICES\"] = str(gpu_id)                       \n",
    "    config = tf.ConfigProto()                                              \n",
    "    config.gpu_options.allow_growth = True                                 \n",
    "    config.allow_soft_placement = True                                     \n",
    "    set_session(tf.Session(config=config))                                 \n",
    "else:                                                                      \n",
    "    gpu = '/cpu:0'"
   ]
  },
  {
   "cell_type": "code",
   "execution_count": 9,
   "metadata": {
    "scrolled": true
   },
   "outputs": [
    {
     "name": "stdout",
     "output_type": "stream",
     "text": [
      "starting predict\n",
      "step 0\n",
      "step 10\n",
      "step 20\n",
      "step 30\n",
      "step 40\n",
      "step 50\n",
      "step 60\n",
      "step 70\n",
      "step 80\n",
      "step 90\n",
      "step 100\n",
      "step 110\n",
      "step 120\n",
      "step 130\n",
      "step 140\n",
      "step 150\n",
      "step 160\n",
      "step 170\n",
      "step 180\n",
      "step 190\n",
      "step 200\n",
      "step 210\n",
      "step 220\n",
      "step 230\n",
      "step 240\n",
      "step 250\n",
      "step 260\n",
      "step 270\n",
      "finished predict\n",
      "writing csv to ../runs/vae_20190520_2040_gpu=6_bs=16_enc=[16_32_32_32]_dec=[32_32_32_32_16_8]_lr=0.0001_pl=100_is=0.01_vr=0.5_lw=[1_1]_tag=split5_s1s2s3s4_s0_full_size/predict/split_test/gen_056_04/clf_0010.csv\n"
     ]
    }
   ],
   "source": [
    "print('starting predict')\n",
    "\n",
    "with tf.device(gpu):\n",
    "    \n",
    "    # load classifier model\n",
    "    classifier = keras.models.load_model(model_file)\n",
    "    \n",
    "    for i, (_, row) in enumerate(csv.iterrows()):\n",
    "        \n",
    "        if i % 10 == 0:\n",
    "            print('step', i)\n",
    "        \n",
    "        xr = load_nii(row['img_path_0'])[None, ..., None]\n",
    "        yr = load_nii(row['img_path_1'])[None, ..., None]\n",
    "        yf = load_nii(row['img_path_yf'])[None, ..., None]\n",
    "        \n",
    "        batch = np.concatenate([xr, yr, yf], axis=0)\n",
    "        \n",
    "        pred = classifier.predict([batch])\n",
    "        \n",
    "        csv.loc[csv.img_id_0 == row['img_id_0'], 'pAD_xr'] = pred[0, 1]\n",
    "        csv.loc[csv.img_id_0 == row['img_id_0'], 'pAD_yr'] = pred[1, 1]\n",
    "        csv.loc[csv.img_id_0 == row['img_id_0'], 'pAD_yf'] = pred[2, 1]\n",
    "        \n",
    "print('finished predict')\n",
    "\n",
    "csv_out_path = os.path.join(pre_dir, model_name+'.csv')\n",
    "\n",
    "print('writing csv to {}'.format(csv_out_path))\n",
    "\n",
    "csv.to_csv(csv_out_path, index=False)"
   ]
  },
  {
   "cell_type": "code",
   "execution_count": 10,
   "metadata": {},
   "outputs": [
    {
     "name": "stdout",
     "output_type": "stream",
     "text": [
      "0 clf_0010.csv\n"
     ]
    }
   ],
   "source": [
    "clf_csvs = glob.glob(os.path.join(glob.escape(pre_dir), '[!meta]*.csv'))\n",
    "clf_csvs = sorted(clf_csvs)\n",
    "\n",
    "for i, clf_csv in enumerate(clf_csvs):\n",
    "    print(i, os.path.basename(clf_csv))"
   ]
  },
  {
   "cell_type": "code",
   "execution_count": 11,
   "metadata": {},
   "outputs": [
    {
     "name": "stdout",
     "output_type": "stream",
     "text": [
      "(271, 43)\n"
     ]
    }
   ],
   "source": [
    "csv_path = clf_csvs[0]\n",
    "csv = pd.read_csv(csv_path)\n",
    "print(csv.shape)"
   ]
  },
  {
   "cell_type": "code",
   "execution_count": 12,
   "metadata": {},
   "outputs": [
    {
     "name": "stdout",
     "output_type": "stream",
     "text": [
      "s: xr -> yr: 0.1159980022641815\n",
      "s: xr -> yf: 0.441847338427016\n",
      "p: xr -> yr: 0.3181100513124318\n",
      "p: xr -> yf: 0.4023435180234554\n"
     ]
    }
   ],
   "source": [
    "scsv = csv[csv.pat_dx_1 == 2]\n",
    "print('s: xr -> yr:', (scsv.pAD_yr - scsv.pAD_xr).mean())\n",
    "print('s: xr -> yf:', (scsv.pAD_yf - scsv.pAD_xr).mean())\n",
    "\n",
    "pcsv = csv[csv.pat_dx_1 == 3]\n",
    "print('p: xr -> yr:', (pcsv.pAD_yr - pcsv.pAD_xr).mean())\n",
    "print('p: xr -> yf:', (pcsv.pAD_yf - pcsv.pAD_xr).mean())"
   ]
  },
  {
   "cell_type": "code",
   "execution_count": 13,
   "metadata": {
    "scrolled": false
   },
   "outputs": [
    {
     "name": "stdout",
     "output_type": "stream",
     "text": [
      "pAD_xr      0.249418\n",
      "pAD_yr      0.438504\n",
      "pAD_yf      0.676980\n",
      "pat_dx_1    2.361624\n",
      "dtype: float64\n"
     ]
    },
    {
     "data": {
      "text/html": [
       "<div>\n",
       "<style scoped>\n",
       "    .dataframe tbody tr th:only-of-type {\n",
       "        vertical-align: middle;\n",
       "    }\n",
       "\n",
       "    .dataframe tbody tr th {\n",
       "        vertical-align: top;\n",
       "    }\n",
       "\n",
       "    .dataframe thead th {\n",
       "        text-align: right;\n",
       "    }\n",
       "</style>\n",
       "<table border=\"1\" class=\"dataframe\">\n",
       "  <thead>\n",
       "    <tr style=\"text-align: right;\">\n",
       "      <th></th>\n",
       "      <th>pAD_xr</th>\n",
       "      <th>pAD_yr</th>\n",
       "      <th>pAD_yf</th>\n",
       "      <th>pat_dx_1</th>\n",
       "    </tr>\n",
       "  </thead>\n",
       "  <tbody>\n",
       "    <tr>\n",
       "      <th>0</th>\n",
       "      <td>10.920704</td>\n",
       "      <td>0.572314</td>\n",
       "      <td>26.667410</td>\n",
       "      <td>200.0</td>\n",
       "    </tr>\n",
       "    <tr>\n",
       "      <th>1</th>\n",
       "      <td>11.128416</td>\n",
       "      <td>99.982774</td>\n",
       "      <td>99.966133</td>\n",
       "      <td>200.0</td>\n",
       "    </tr>\n",
       "    <tr>\n",
       "      <th>2</th>\n",
       "      <td>0.228174</td>\n",
       "      <td>15.027128</td>\n",
       "      <td>3.106096</td>\n",
       "      <td>200.0</td>\n",
       "    </tr>\n",
       "    <tr>\n",
       "      <th>3</th>\n",
       "      <td>1.820767</td>\n",
       "      <td>0.575360</td>\n",
       "      <td>14.456289</td>\n",
       "      <td>200.0</td>\n",
       "    </tr>\n",
       "    <tr>\n",
       "      <th>4</th>\n",
       "      <td>0.683231</td>\n",
       "      <td>0.079784</td>\n",
       "      <td>6.820168</td>\n",
       "      <td>200.0</td>\n",
       "    </tr>\n",
       "    <tr>\n",
       "      <th>5</th>\n",
       "      <td>0.304578</td>\n",
       "      <td>3.004045</td>\n",
       "      <td>32.802531</td>\n",
       "      <td>300.0</td>\n",
       "    </tr>\n",
       "    <tr>\n",
       "      <th>6</th>\n",
       "      <td>2.534587</td>\n",
       "      <td>5.247945</td>\n",
       "      <td>68.943632</td>\n",
       "      <td>300.0</td>\n",
       "    </tr>\n",
       "    <tr>\n",
       "      <th>7</th>\n",
       "      <td>48.008946</td>\n",
       "      <td>30.106309</td>\n",
       "      <td>99.223000</td>\n",
       "      <td>300.0</td>\n",
       "    </tr>\n",
       "    <tr>\n",
       "      <th>8</th>\n",
       "      <td>92.148787</td>\n",
       "      <td>95.489311</td>\n",
       "      <td>99.799913</td>\n",
       "      <td>300.0</td>\n",
       "    </tr>\n",
       "    <tr>\n",
       "      <th>9</th>\n",
       "      <td>0.100285</td>\n",
       "      <td>0.094518</td>\n",
       "      <td>62.060314</td>\n",
       "      <td>200.0</td>\n",
       "    </tr>\n",
       "  </tbody>\n",
       "</table>\n",
       "</div>"
      ],
      "text/plain": [
       "      pAD_xr     pAD_yr     pAD_yf  pat_dx_1\n",
       "0  10.920704   0.572314  26.667410     200.0\n",
       "1  11.128416  99.982774  99.966133     200.0\n",
       "2   0.228174  15.027128   3.106096     200.0\n",
       "3   1.820767   0.575360  14.456289     200.0\n",
       "4   0.683231   0.079784   6.820168     200.0\n",
       "5   0.304578   3.004045  32.802531     300.0\n",
       "6   2.534587   5.247945  68.943632     300.0\n",
       "7  48.008946  30.106309  99.223000     300.0\n",
       "8  92.148787  95.489311  99.799913     300.0\n",
       "9   0.100285   0.094518  62.060314     200.0"
      ]
     },
     "execution_count": 13,
     "metadata": {},
     "output_type": "execute_result"
    }
   ],
   "source": [
    "print(csv[['pAD_xr', 'pAD_yr', 'pAD_yf', 'pat_dx_1']].mean())\n",
    "csv[['pAD_xr', 'pAD_yr', 'pAD_yf', 'pat_dx_1']].head(10)*100"
   ]
  },
  {
   "cell_type": "code",
   "execution_count": 14,
   "metadata": {},
   "outputs": [],
   "source": [
    "def get_metric(csv_in, col, t, metric):\n",
    "\n",
    "    true_pos = ((csv_in[col] > t) & (csv_in.pat_dx_1 == 3)).sum()\n",
    "    true_neg = ((csv_in[col] <= t) & (csv_in.pat_dx_1 == 2)).sum()\n",
    "    false_pos = ((csv_in[col] > t) & (csv_in.pat_dx_1 == 2)).sum()\n",
    "    false_neg = ((csv_in[col] <= t) & (csv_in.pat_dx_1 == 3)).sum()\n",
    "    \n",
    "    true = true_pos + true_neg\n",
    "    false = false_pos + false_neg\n",
    "\n",
    "    if metric == 'f1':\n",
    "        prec = true_pos / (true_pos + false_pos)\n",
    "        reca = true_pos / (true_pos + false_neg)\n",
    "\n",
    "        f1_score = 2 * (prec * reca) / (prec + reca)\n",
    "        m = f1_score\n",
    "        \n",
    "    elif metric == 'acc':\n",
    "        acc_p = true_pos / (true_pos + false_neg)\n",
    "        acc_s = true_neg / (true_neg + false_pos)\n",
    "\n",
    "        balanced_acc = (acc_p + acc_s) / 2\n",
    "        m = balanced_acc\n",
    "    \n",
    "    return (round(m, 3), true, false)"
   ]
  },
  {
   "cell_type": "code",
   "execution_count": 15,
   "metadata": {},
   "outputs": [],
   "source": [
    "def get_best_threshold(csv_in, col, metric):\n",
    "    l = []\n",
    "    \n",
    "    for t in np.arange(0, 1, 0.01):\n",
    "        m = get_metric(csv_in, col, t, metric)\n",
    "        l.append((*m, t))\n",
    "        \n",
    "    return (max(l)[3])"
   ]
  },
  {
   "cell_type": "code",
   "execution_count": 16,
   "metadata": {},
   "outputs": [],
   "source": [
    "def get_split_metric(csv_in, col, cv_split, metric):\n",
    "    \n",
    "    csv_split = csv_in[csv_in.cv_split == cv_split]\n",
    "    csv_other = csv_in[csv_in.cv_split != cv_split]\n",
    "    \n",
    "    t = get_best_threshold(csv_other, col, metric)\n",
    "    \n",
    "    m = get_metric(csv_split, col, t, metric)\n",
    "    print('split {}: {}, t={}'.format(cv_split, m, t))\n",
    "    \n",
    "    return m"
   ]
  },
  {
   "cell_type": "code",
   "execution_count": 17,
   "metadata": {},
   "outputs": [],
   "source": [
    "def get_cv_metric(csv_in, col, metric):\n",
    "    l = [get_split_metric(csv_in, col, s, metric)[0] for s in range(5)]\n",
    "    return np.array(l).mean()"
   ]
  },
  {
   "cell_type": "code",
   "execution_count": 18,
   "metadata": {},
   "outputs": [],
   "source": [
    "# create 5 folds with equal number of pMCI/sMCI samples each\n",
    "csv = csv.sample(frac=1).reset_index(drop=True)\n",
    "\n",
    "pMCI = csv[csv.pat_dx_1 == 3].img_id_0.values\n",
    "sMCI = csv[csv.pat_dx_1 == 2].img_id_0.values\n",
    "\n",
    "p_bins = np.linspace(0, len(pMCI), 6).astype(int)[1:-1]\n",
    "s_bins = np.linspace(0, len(sMCI), 6).astype(int)[1:-1]\n",
    "\n",
    "p_splits = np.split(pMCI, p_bins)\n",
    "s_splits = np.split(sMCI, s_bins)"
   ]
  },
  {
   "cell_type": "code",
   "execution_count": 19,
   "metadata": {
    "scrolled": true
   },
   "outputs": [],
   "source": [
    "# write folds to csv\n",
    "for i, (p_split, s_split) in enumerate(zip(p_splits, s_splits)):\n",
    "    csv.loc[csv.img_id_0.isin(p_split), 'cv_split'] = i\n",
    "    csv.loc[csv.img_id_0.isin(s_split), 'cv_split'] = i"
   ]
  },
  {
   "cell_type": "code",
   "execution_count": 20,
   "metadata": {},
   "outputs": [
    {
     "name": "stdout",
     "output_type": "stream",
     "text": [
      "split 0: (0.548, 25, 28), t=0.01\n",
      "split 1: (0.571, 31, 24), t=0.01\n",
      "split 2: (0.654, 35, 18), t=0.01\n",
      "split 3: (0.642, 36, 19), t=0.01\n",
      "split 4: (0.6, 31, 24), t=0.01\n"
     ]
    },
    {
     "data": {
      "text/plain": [
       "0.603"
      ]
     },
     "execution_count": 20,
     "metadata": {},
     "output_type": "execute_result"
    }
   ],
   "source": [
    "get_cv_metric(csv, 'pAD_xr', 'f1')"
   ]
  },
  {
   "cell_type": "code",
   "execution_count": 21,
   "metadata": {},
   "outputs": [
    {
     "name": "stdout",
     "output_type": "stream",
     "text": [
      "split 0: (0.68, 37, 16), t=0.26\n",
      "split 1: (0.545, 35, 20), t=0.32\n",
      "split 2: (0.773, 43, 10), t=0.26\n",
      "split 3: (0.647, 43, 12), t=0.87\n",
      "split 4: (0.679, 38, 17), t=0.26\n"
     ]
    },
    {
     "data": {
      "text/plain": [
       "0.6648000000000002"
      ]
     },
     "execution_count": 21,
     "metadata": {},
     "output_type": "execute_result"
    }
   ],
   "source": [
    "get_cv_metric(csv, 'pAD_yr', 'f1')"
   ]
  },
  {
   "cell_type": "code",
   "execution_count": 22,
   "metadata": {},
   "outputs": [
    {
     "name": "stdout",
     "output_type": "stream",
     "text": [
      "split 0: (0.588, 32, 21), t=0.86\n",
      "split 1: (0.5, 29, 26), t=0.86\n",
      "split 2: (0.711, 40, 13), t=0.86\n",
      "split 3: (0.609, 37, 18), t=0.86\n",
      "split 4: (0.593, 33, 22), t=0.86\n"
     ]
    },
    {
     "data": {
      "text/plain": [
       "0.6002"
      ]
     },
     "execution_count": 22,
     "metadata": {},
     "output_type": "execute_result"
    }
   ],
   "source": [
    "get_cv_metric(csv, 'pAD_yf', 'f1')"
   ]
  },
  {
   "cell_type": "code",
   "execution_count": 23,
   "metadata": {},
   "outputs": [
    {
     "name": "stdout",
     "output_type": "stream",
     "text": [
      "split 0: (0.54, 32, 21), t=0.24\n",
      "split 1: (0.711, 40, 15), t=0.16\n",
      "split 2: (0.669, 36, 17), t=0.16\n",
      "split 3: (0.643, 39, 16), t=0.27\n",
      "split 4: (0.668, 37, 18), t=0.16\n"
     ]
    },
    {
     "data": {
      "text/plain": [
       "0.6462"
      ]
     },
     "execution_count": 23,
     "metadata": {},
     "output_type": "execute_result"
    }
   ],
   "source": [
    "get_cv_metric(csv, 'pAD_xr', 'acc')"
   ]
  },
  {
   "cell_type": "code",
   "execution_count": 24,
   "metadata": {},
   "outputs": [
    {
     "name": "stdout",
     "output_type": "stream",
     "text": [
      "split 0: (0.741, 37, 16), t=0.26\n",
      "split 1: (0.629, 35, 20), t=0.32\n",
      "split 2: (0.83, 43, 10), t=0.26\n",
      "split 3: (0.732, 43, 12), t=0.87\n",
      "split 4: (0.704, 41, 14), t=0.87\n"
     ]
    },
    {
     "data": {
      "text/plain": [
       "0.7272000000000001"
      ]
     },
     "execution_count": 24,
     "metadata": {},
     "output_type": "execute_result"
    }
   ],
   "source": [
    "get_cv_metric(csv, 'pAD_yr', 'acc')"
   ]
  },
  {
   "cell_type": "code",
   "execution_count": 25,
   "metadata": {
    "scrolled": true
   },
   "outputs": [
    {
     "name": "stdout",
     "output_type": "stream",
     "text": [
      "split 0: (0.567, 33, 20), t=0.99\n",
      "split 1: (0.554, 29, 26), t=0.86\n",
      "split 2: (0.696, 41, 12), t=0.99\n",
      "split 3: (0.679, 37, 18), t=0.86\n",
      "split 4: (0.643, 33, 22), t=0.86\n"
     ]
    },
    {
     "data": {
      "text/plain": [
       "0.6278"
      ]
     },
     "execution_count": 25,
     "metadata": {},
     "output_type": "execute_result"
    }
   ],
   "source": [
    "get_cv_metric(csv, 'pAD_yf', 'acc')"
   ]
  }
 ],
 "metadata": {
  "kernelspec": {
   "display_name": "Python 3",
   "language": "python",
   "name": "python3"
  },
  "language_info": {
   "codemirror_mode": {
    "name": "ipython",
    "version": 3
   },
   "file_extension": ".py",
   "mimetype": "text/x-python",
   "name": "python",
   "nbconvert_exporter": "python",
   "pygments_lexer": "ipython3",
   "version": "3.6.8"
  }
 },
 "nbformat": 4,
 "nbformat_minor": 2
}
