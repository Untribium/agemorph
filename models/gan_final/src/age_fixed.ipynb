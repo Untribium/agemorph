{
 "cells": [
  {
   "cell_type": "code",
   "execution_count": 2,
   "metadata": {},
   "outputs": [
    {
     "name": "stderr",
     "output_type": "stream",
     "text": [
      "Using TensorFlow backend.\n"
     ]
    }
   ],
   "source": [
    "import os\n",
    "import tensorflow as tf\n",
    "from keras.backend.tensorflow_backend import set_session"
   ]
  },
  {
   "cell_type": "code",
   "execution_count": 3,
   "metadata": {},
   "outputs": [],
   "source": [
    "import os\n",
    "import sys\n",
    "import glob\n",
    "\n",
    "import tensorflow as tf\n",
    "import numpy as np\n",
    "import pandas as pd\n",
    "import keras\n",
    "from keras.backend.tensorflow_backend import set_session\n",
    "\n",
    "import matplotlib.pyplot as plt\n",
    "import matplotlib.lines as mlines\n",
    "from matplotlib.colors import colorConverter as cc\n",
    "\n",
    "import nibabel as nib"
   ]
  },
  {
   "cell_type": "code",
   "execution_count": 4,
   "metadata": {},
   "outputs": [],
   "source": [
    "img_path = '/local/martipa/agemorph/thesis/images/age_plots'"
   ]
  },
  {
   "cell_type": "code",
   "execution_count": 5,
   "metadata": {},
   "outputs": [],
   "source": [
    "def load_nii(path):\n",
    "    nii = nib.load(path)\n",
    "    vol = nii.get_data().astype(np.float32)\n",
    "    return np.squeeze(vol)"
   ]
  },
  {
   "cell_type": "code",
   "execution_count": 6,
   "metadata": {},
   "outputs": [
    {
     "name": "stdout",
     "output_type": "stream",
     "text": [
      "found 14 runs \n",
      "\n",
      "0 ../runs/gan_20190428_1448_gpu=7_bs=4_cl=8_lr=0.0001_b1=0.0_b2=0.9_ep=0.1_pl=50.0_vr=0.5_is=5_cs=5_rf=10_rs=5_sw=True_glw=[1_100_500_10_0]_clw=[1_1_10]/predict \n",
      "\n",
      "1 ../runs/gan_20190430_1720_gpu=7_bs=16_cl=8_lr=0.0001_b1=0.0_b2=0.9_ep=0.1_pl=50.0_lk=0.2_bn=True_vr=0.5_is=6_cs=5_rf=10_rs=5_sw=True_glw=[1_100_500_10_0_0]_clw=[1_1_10]_tag=beefier_decoder_more_summaries_batchnorm/predict \n",
      "\n",
      "2 ../runs/gan_20190503_1139_gpu=2_bs=16_cl=8_lr=0.0001_b1=0.0_b2=0.9_ep=0.1_pl=25.0_lk=0.2_bn=True_vr=0.5_is=6_cs=5_rf=10_rs=5_sw=True_reg=True_clf=False_glw=[1.0_500.0_10.0_250.0_0.0_0.0_50.0]_clw=[1.0_1.0_10.0]_tag=new_arch/predict \n",
      "\n",
      "3 ../runs/gan_20190505_1942_gpu=7_bs=16_cl=8_lr=0.0001_b1=0.0_b2=0.9_ep=0.1_pl=25_lk=0.2_bn=True_vr=0.5_is=6_cs=5_rf=10_rs=5_sw=True_reg=True_clf=False_glw=[1.0_100.0_10.0_100.0_0.0_0.0_25.0]_clw=[1_1_10]_tag=train_s1_eval_s2/predict \n",
      "\n",
      "4 ../runs/gan_20190505_2247_gpu=6_bs=16_cl=8_lr=0.0001_b1=0.0_b2=0.9_ep=0.1_pl=25_lk=0.2_bn=True_vr=0.5_is=6_cs=5_rf=10_rs=5_sw=True_reg=False_clf=True_glw=[1.0_100.0_10.0_100.0_0.0_0.0_100.0]_clw=[1_1_10]_tag=clf_test_run/predict \n",
      "\n",
      "5 ../runs/gan_20190506_1227_gpu=1_bs=16_cl=8_lr=0.0001_b1=0.0_b2=0.9_ep=0.1_pl=25_lk=0.2_bn=True_vr=0.5_is=6_cs=5_rf=10_rs=5_sw=True_reg=False_clf=True_glw=[1.0_100.0_10.0_100.0_0.0_0.0_25.0]_clw=[1_1_10]_tag=clf_lower_clf_loss/predict \n",
      "\n",
      "6 ../runs/gan_20190507_1210_gpu=5_bs=16_cl=8_lr=0.0001_b1=0.0_b2=0.9_ep=0.1_pl=25_lk=0.2_bn=True_vr=0.5_is=6_cs=5_rf=10_rs=5_sw=True_reg=True_clf=True_glw=[1.0_200.0_5.0_100.0_0.0_0.0_25.0_25.0]_clw=[1_1_10]_tag=reg_and_clf_on_clf_train/predict \n",
      "\n",
      "7 ../runs/gan_20190510_0855_gpu=6_bs=16_cl=8_lr=0.0001_b1=0.0_b2=0.9_ep=0.1_pl=25_lk=0.2_bn=True_vr=0.5_is=6_cs=5_rf=10_rs=5_sw=True_reg=True_clf=False_glw=[1.0_200.0_5.0_100.0_0.0_0.0_10.0]_clw=[1_1_10]_tag=AD_only/predict \n",
      "\n",
      "8 ../runs/gan_20190510_0911_gpu=4_bs=16_cl=8_lr=0.0001_b1=0.0_b2=0.9_ep=0.1_pl=25_lk=0.2_bn=True_vr=0.5_is=6_cs=5_rf=10_rs=5_sw=True_reg=True_clf=False_glw=[1.0_200.0_5.0_100.0_0.0_0.0_10.0]_clw=[1_1_10]_tag=HC_only/predict \n",
      "\n",
      "9 ../runs/gan_20190510_1454_gpu=1_bs=16_cl=8_lr=0.0001_b1=0.0_b2=0.9_ep=0.1_pl=25_lk=0.2_bn=True_vr=0.5_is=6_cs=5_rf=10_rs=5_sw=True_reg=False_clf=True_glw=[1.0_200.0_5.0_100.0_0.0_0.0_0.0_50.0]_clw=[1_1_10]_tag=new_clf_l1_loss/predict \n",
      "\n",
      "10 ../runs/gan_20190517_0008_gpu=3_bs=16_cl=8_lr=0.0001_b1=0.0_b2=0.9_ep=0.001_pl=25_lk=0.2_bn=True_vr=0.5_is=6_cs=5_rf=10_rs=5_sw=True_reg=True_clf=False_glw=[1.0_500.0_5.0_25.0_0.0_0.0_50.0]_clw=[1_1_10]_tag=split5_s1s3_s2s4/predict \n",
      "\n",
      "11 ../runs/gan_20190517_0825_gpu=0_bs=16_cl=8_lr=0.0001_b1=0.0_b2=0.9_ep=0.0001_pl=25_lk=0.2_bn=True_vr=0.5_is=6_cs=5_rf=10_rs=5_sw=True_reg=True_clf=True_glw=[1.0_500.0_5.0_75.0_0.0_0.0_50.0_100.0]_clw=[1_1_10]/predict \n",
      "\n",
      "12 ../runs/gan_20190518_2207_gpu=0_bs=16_cl=8_lr=0.0001_b1=0.0_b2=0.9_ep=0.0001_pl=25_lk=0.2_bn=True_vr=0.5_is=6_cs=5_rf=10_rs=5_sw=True_reg=True_clf=False_glw=[1.0_500.0_5.0_100.0_0.0_0.0_25.0]_clw=[1_1_10]_tag=split5_AD_s1s2s3s4_s0/predict \n",
      "\n",
      "13 ../runs/gan_20190518_2327_gpu=3_bs=16_cl=8_lr=0.0001_b1=0.0_b2=0.9_ep=0.0001_pl=25_lk=0.2_bn=True_vr=0.5_is=6_cs=5_rf=10_rs=5_sw=True_reg=True_clf=False_glw=[1.0_500.0_5.0_100.0_0.0_0.0_25.0]_clw=[1_1_10]_tag=split5_HC_s1s2s3s4_s0/predict \n",
      "\n"
     ]
    }
   ],
   "source": [
    "run_dirs = glob.glob('../runs/*/predict')\n",
    "run_dirs = sorted(run_dirs)\n",
    "\n",
    "print('found {} runs'.format(len(run_dirs)), '\\n')\n",
    "\n",
    "for i, run in enumerate(run_dirs):\n",
    "    print(i, run, '\\n')"
   ]
  },
  {
   "cell_type": "code",
   "execution_count": 7,
   "metadata": {},
   "outputs": [
    {
     "name": "stdout",
     "output_type": "stream",
     "text": [
      "found 12 pre_dirs\n",
      "0 split_s0/gen_035\n",
      "1 split_s0/gen_035_04\n",
      "2 split_s0/gen_100\n",
      "3 split_s0/gen_100_02\n",
      "4 split_s0/gen_100_04\n",
      "5 split_s0/gen_100_06\n",
      "6 split_s0/gen_100_08\n",
      "7 split_s0/gen_100_10\n",
      "8 split_test/gen_025_04\n",
      "9 split_test/gen_035_04\n",
      "10 split_test/gen_100_04\n",
      "11 split_test/gen_150_04\n"
     ]
    }
   ],
   "source": [
    "# set run dir\n",
    "run_dir = run_dirs[11]\n",
    "\n",
    "pre_dirs = glob.glob(os.path.join(glob.escape(run_dir), '*', '*'))\n",
    "pre_dirs = sorted(pre_dirs)\n",
    "\n",
    "print('found {} pre_dirs'.format(len(pre_dirs)))\n",
    "\n",
    "for i, pre_dir in enumerate(pre_dirs):\n",
    "    #print(i, os.path.basename(pre_dir))\n",
    "    print(i, pre_dir.split('/')[-2] + '/' + pre_dir.split('/')[-1])"
   ]
  },
  {
   "cell_type": "code",
   "execution_count": null,
   "metadata": {},
   "outputs": [],
   "source": [
    "# generator config, run_dir, etc...\n",
    "pre_dir = pre_dirs[7]\n",
    "\n",
    "csv_path = os.path.join(pre_dir, 'meta.csv')\n",
    "csv = pd.read_csv(csv_path)\n",
    "\n",
    "print('found meta.csv: {}'.format(csv.shape))"
   ]
  },
  {
   "cell_type": "code",
   "execution_count": null,
   "metadata": {},
   "outputs": [],
   "source": [
    "# regressor\n",
    "reg_dir = '../../age/runs/reg_20190517_0849_gpu=2_bs=32_lr=0.001_b1=0.9_b2=0.999_ep=0.0001_bn=True_mp=True_sw=None_lk=0.0_ls=[16_2_32_1_32_2_64_1_64_2_128_1_128_2_256_1_256_1]_lw=[1.0]_ls=mean_absolute_error_tag=split5_s1s2s3s4_s0/'\n",
    "model_name = 'reg_0300'\n",
    "model_file = os.path.join(reg_dir, model_name+'.h5')\n",
    "\n",
    "if os.path.isfile(model_file):\n",
    "    print('found model file')\n",
    "else:\n",
    "    print('model file not found!')"
   ]
  },
  {
   "cell_type": "code",
   "execution_count": 2,
   "metadata": {},
   "outputs": [],
   "source": [
    "# gpu config\n",
    "gpu_id = 7\n",
    "\n",
    "if gpu_id is not None:                                                     \n",
    "    gpu = '/gpu:' + str(gpu_id)                                            \n",
    "    os.environ[\"CUDA_VISIBLE_DEVICES\"] = str(gpu_id)                       \n",
    "    config = tf.ConfigProto()                                              \n",
    "    config.gpu_options.allow_growth = True                                 \n",
    "    config.allow_soft_placement = True                                     \n",
    "    set_session(tf.Session(config=config))                                 \n",
    "else:                                                                      \n",
    "    gpu = '/cpu:0'"
   ]
  },
  {
   "cell_type": "code",
   "execution_count": 1,
   "metadata": {
    "scrolled": true
   },
   "outputs": [
    {
     "ename": "NameError",
     "evalue": "name 'csv' is not defined",
     "output_type": "error",
     "traceback": [
      "\u001b[0;31m---------------------------------------------------------------------------\u001b[0m",
      "\u001b[0;31mNameError\u001b[0m                                 Traceback (most recent call last)",
      "\u001b[0;32m<ipython-input-1-2e3feb32b115>\u001b[0m in \u001b[0;36m<module>\u001b[0;34m\u001b[0m\n\u001b[0;32m----> 1\u001b[0;31m \u001b[0mcsv\u001b[0m \u001b[0;34m=\u001b[0m \u001b[0mcsv\u001b[0m\u001b[0;34m[\u001b[0m\u001b[0;34m~\u001b[0m\u001b[0mcsv\u001b[0m\u001b[0;34m.\u001b[0m\u001b[0mimg_path_0\u001b[0m\u001b[0;34m.\u001b[0m\u001b[0misna\u001b[0m\u001b[0;34m(\u001b[0m\u001b[0;34m)\u001b[0m\u001b[0;34m]\u001b[0m\u001b[0;34m\u001b[0m\u001b[0;34m\u001b[0m\u001b[0m\n\u001b[0m\u001b[1;32m      2\u001b[0m \u001b[0mcsv\u001b[0m \u001b[0;34m=\u001b[0m \u001b[0mcsv\u001b[0m\u001b[0;34m[\u001b[0m\u001b[0;34m~\u001b[0m\u001b[0mcsv\u001b[0m\u001b[0;34m.\u001b[0m\u001b[0mimg_path_1\u001b[0m\u001b[0;34m.\u001b[0m\u001b[0misna\u001b[0m\u001b[0;34m(\u001b[0m\u001b[0;34m)\u001b[0m\u001b[0;34m]\u001b[0m\u001b[0;34m\u001b[0m\u001b[0;34m\u001b[0m\u001b[0m\n\u001b[1;32m      3\u001b[0m \u001b[0mcsv\u001b[0m \u001b[0;34m=\u001b[0m \u001b[0mcsv\u001b[0m\u001b[0;34m[\u001b[0m\u001b[0;34m~\u001b[0m\u001b[0mcsv\u001b[0m\u001b[0;34m.\u001b[0m\u001b[0mimg_path_yf\u001b[0m\u001b[0;34m.\u001b[0m\u001b[0misna\u001b[0m\u001b[0;34m(\u001b[0m\u001b[0;34m)\u001b[0m\u001b[0;34m]\u001b[0m\u001b[0;34m\u001b[0m\u001b[0;34m\u001b[0m\u001b[0m\n\u001b[1;32m      4\u001b[0m \u001b[0;34m\u001b[0m\u001b[0m\n\u001b[1;32m      5\u001b[0m \u001b[0mcsv\u001b[0m \u001b[0;34m=\u001b[0m \u001b[0mcsv\u001b[0m\u001b[0;34m.\u001b[0m\u001b[0mreset_index\u001b[0m\u001b[0;34m(\u001b[0m\u001b[0mdrop\u001b[0m\u001b[0;34m=\u001b[0m\u001b[0;32mTrue\u001b[0m\u001b[0;34m)\u001b[0m\u001b[0;34m\u001b[0m\u001b[0;34m\u001b[0m\u001b[0m\n",
      "\u001b[0;31mNameError\u001b[0m: name 'csv' is not defined"
     ]
    }
   ],
   "source": [
    "csv = csv[~csv.img_path_0.isna()]\n",
    "csv = csv[~csv.img_path_1.isna()]\n",
    "csv = csv[~csv.img_path_yf.isna()]\n",
    "\n",
    "csv = csv.reset_index(drop=True)\n",
    "\n",
    "print('starting predict')\n",
    "\n",
    "with tf.device(gpu):\n",
    "    \n",
    "    # load classifier model\n",
    "    regressor = keras.models.load_model(model_file)\n",
    "    \n",
    "    for i, (_, row) in enumerate(csv.iterrows()):\n",
    "        \n",
    "        if i % 10 == 0:\n",
    "            print('step', i)\n",
    "        \n",
    "        xr = load_nii(row['img_path_0'])[None, ..., None]\n",
    "        yr = load_nii(row['img_path_1'])[None, ..., None]\n",
    "        yf = load_nii(row['img_path_yf'])[None, ..., None]\n",
    "        \n",
    "        batch = np.concatenate([xr, yr, yf], axis=0)\n",
    "        \n",
    "        pred = regressor.predict([batch])\n",
    "        \n",
    "        index = (csv.img_id_0 == row['img_id_0']) & (csv.img_id_1 == row['img_id_1'])\n",
    "        \n",
    "        csv.loc[index, 'age_xr'] = pred[0]\n",
    "        csv.loc[index, 'age_yr'] = pred[1]\n",
    "        csv.loc[index, 'age_yf'] = pred[2]\n",
    "        \n",
    "print('finished predict')\n",
    "\n",
    "csv_out_path = os.path.join(pre_dir, model_name+'.csv')\n",
    "\n",
    "print('writing csv to {}'.format(csv_out_path))\n",
    "\n",
    "csv.to_csv(csv_out_path, index=False)"
   ]
  },
  {
   "cell_type": "code",
   "execution_count": 8,
   "metadata": {},
   "outputs": [
    {
     "name": "stdout",
     "output_type": "stream",
     "text": [
      "0 gen_100_02/reg_0300.csv\n",
      "1 gen_100_04/reg_0300.csv\n",
      "2 gen_100_06/reg_0300.csv\n",
      "3 gen_100_08/reg_0300.csv\n",
      "4 gen_100_10/reg_0300.csv\n"
     ]
    }
   ],
   "source": [
    "reg_csvs = glob.glob(os.path.join(glob.escape(run_dir), '*', '*_*_*', 'reg*.csv'))\n",
    "reg_csvs = sorted(reg_csvs)\n",
    "\n",
    "for i, reg_csv in enumerate(reg_csvs):\n",
    "    print(i, '/'.join(reg_csv.split('/')[-2:]))"
   ]
  },
  {
   "cell_type": "code",
   "execution_count": 9,
   "metadata": {},
   "outputs": [
    {
     "name": "stdout",
     "output_type": "stream",
     "text": [
      "2.458709313976231\n",
      "0: (2680, 44)\n",
      "3.2613418265954772\n",
      "1: (2680, 44)\n",
      "3.7211887516192537\n",
      "2: (2680, 44)\n",
      "4.053695822473782\n",
      "3: (2680, 44)\n"
     ]
    }
   ],
   "source": [
    "hist_ids = [0, 1, 2, 3]\n",
    "\n",
    "csvs = []\n",
    "\n",
    "for i, h_id in enumerate(hist_ids):\n",
    "    csv_path = reg_csvs[h_id]\n",
    "    csvs.append(pd.read_csv(csv_path))\n",
    "    print((csvs[-1].age_yf - csvs[-1].age_xr).mean())\n",
    "    print('{}: {}'.format(h_id, csvs[-1].shape))"
   ]
  },
  {
   "cell_type": "code",
   "execution_count": 14,
   "metadata": {},
   "outputs": [
    {
     "name": "stdout",
     "output_type": "stream",
     "text": [
      "(2680, 44)\n",
      "2.458709313976231\n",
      "0.9472134621098453\n",
      "2.5436973571777344\n",
      "(2680, 44)\n",
      "3.2613418265954772\n",
      "1.3763500137326445\n",
      "3.3484954833984375\n",
      "(2680, 44)\n",
      "3.7211887516192537\n",
      "1.748503166810171\n",
      "3.8511028289794815\n",
      "(2680, 44)\n",
      "4.053695822473782\n",
      "2.098048921227456\n",
      "4.2111968994140625\n"
     ]
    },
    {
     "data": {
      "image/png": "[encoded data removed]",
      "text/plain": [
       "<Figure size 720x576 with 1 Axes>"
      ]
     },
     "metadata": {
      "needs_background": "light"
     },
     "output_type": "display_data"
    }
   ],
   "source": [
    "c = ['#384D75', '#723F7E', '#3C9D9A', '#FDE835']\n",
    "l = [2, 4, 6, 8]\n",
    "\n",
    "plt.figure(figsize=(10, 8))\n",
    "\n",
    "\n",
    "handles = []\n",
    "\n",
    "for i, csv in enumerate(csvs):\n",
    "    # outputs should be the same for same first image, so drop duplicates\n",
    "    #csv_unique = csv.drop_duplicates(subset=['img_id_0'])\n",
    "    csv_unique = csv\n",
    "    print(csv_unique.shape)\n",
    "\n",
    "    x = np.arange(-2.5, 11.5, 0.5)\n",
    "    y = csv_unique.age_yf - csv_unique.age_xr\n",
    "\n",
    "    print(y.mean())\n",
    "    print(y.std())\n",
    "    print(y.median())\n",
    "    \n",
    "    handles.append(mlines.Line2D([], [], color=cc.to_rgba(c[i], 0.3), marker='s',\n",
    "                linestyle='None', markersize=10, label='target$ = {},\\ $mean$ = {:.2f}$'.format(l[i], y.mean())))\n",
    "\n",
    "    plt.axvline(y.mean(), c=c[i], linestyle='--')\n",
    "    \n",
    "    plt.hist(y, x, alpha=0.6, histtype=u'step', linewidth=2, color=c[i])\n",
    "    plt.hist(y, x, alpha=0.1, linewidth=2, color=c[i])\n",
    "\n",
    "plt.legend(handles=handles, loc=1)\n",
    "\n",
    "plt.xlabel('$\\hat a_x - \\hat a_{\\hat y}$', fontsize=14)\n",
    "plt.ylabel('$N$', fontsize=14)\n",
    "\n",
    "save = False\n",
    "#save = True\n",
    "if save:\n",
    "    plt.savefig(os.path.join(img_path, 'hist_fixed.pdf'), dpi=250)\n",
    "\n",
    "plt.show()"
   ]
  }
 ],
 "metadata": {
  "kernelspec": {
   "display_name": "Python 3",
   "language": "python",
   "name": "python3"
  },
  "language_info": {
   "codemirror_mode": {
    "name": "ipython",
    "version": 3
   },
   "file_extension": ".py",
   "mimetype": "text/x-python",
   "name": "python",
   "nbconvert_exporter": "python",
   "pygments_lexer": "ipython3",
   "version": "3.6.8"
  }
 },
 "nbformat": 4,
 "nbformat_minor": 2
}
